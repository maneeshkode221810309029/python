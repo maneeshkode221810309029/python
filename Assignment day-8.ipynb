{
 "cells": [
  {
   "cell_type": "code",
   "execution_count": 2,
   "metadata": {},
   "outputs": [
    {
     "data": {
      "text/plain": [
       "[1, 4, 5, 6, 9]"
      ]
     },
     "execution_count": 2,
     "metadata": {},
     "output_type": "execute_result"
    }
   ],
   "source": [
    "# assignment question \n",
    "\n",
    "# 1. [1,4,5,6,9] - 14569\n",
    "\n",
    "def numberListConversion(n):\n",
    "    li = []\n",
    "    while n != 0:\n",
    "        r = n % 10\n",
    "        li.append(r)\n",
    "        n = n // 10\n",
    "    li.reverse()\n",
    "    return li\n",
    "numberListConversion(14569)"
   ]
  },
  {
   "cell_type": "code",
   "execution_count": 3,
   "metadata": {},
   "outputs": [
    {
     "name": "stdout",
     "output_type": "stream",
     "text": [
      "46"
     ]
    }
   ],
   "source": [
    "# 2. [1,4,5,6,9]  - 46(Consider only even numbers from list)\n",
    "lst=[1,4,5,6,9]\n",
    "for i in lst:\n",
    "    if i%2==0:\n",
    "        print(i, end=\"\")"
   ]
  },
  {
   "cell_type": "code",
   "execution_count": 5,
   "metadata": {},
   "outputs": [
    {
     "name": "stdout",
     "output_type": "stream",
     "text": [
      "[1, 4, 3, 16, 5]\n"
     ]
    }
   ],
   "source": [
    "# 3. [1,2,3,4,5] - [1,4,3,16,5] (Consider only even number and square of it)\n",
    "lst2=[]\n",
    "lst=[1,2,3,4,5]\n",
    "for i in lst:\n",
    "    if i%2==0:\n",
    "        lst2.append(i**2)\n",
    "    else:\n",
    "        lst2.append(i)\n",
    "print (lst2)"
   ]
  },
  {
   "cell_type": "code",
   "execution_count": 4,
   "metadata": {},
   "outputs": [
    {
     "name": "stdout",
     "output_type": "stream",
     "text": [
      "[15, 34, 31, 28, 20]\n"
     ]
    }
   ],
   "source": [
    "#4. [15,19,12,16,4] - [15,34,31,28,4] (Need to add previous number to current number)\n",
    "lst2=[]\n",
    "lst=[15,19,12,16,4]\n",
    "y=0\n",
    "for i in lst:\n",
    "    lst2.append(i+y)\n",
    "    y=i\n",
    "print(lst2)"
   ]
  }
 ],
 "metadata": {
  "kernelspec": {
   "display_name": "Python 3",
   "language": "python",
   "name": "python3"
  },
  "language_info": {
   "codemirror_mode": {
    "name": "ipython",
    "version": 3
   },
   "file_extension": ".py",
   "mimetype": "text/x-python",
   "name": "python",
   "nbconvert_exporter": "python",
   "pygments_lexer": "ipython3",
   "version": "3.7.3"
  }
 },
 "nbformat": 4,
 "nbformat_minor": 2
}
