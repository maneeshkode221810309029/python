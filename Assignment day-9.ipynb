{
 "cells": [
  {
   "cell_type": "code",
   "execution_count": 4,
   "metadata": {},
   "outputs": [
    {
     "name": "stdout",
     "output_type": "stream",
     "text": [
      "3 2 1 1 0 "
     ]
    }
   ],
   "source": [
    "# Function for nth Fibonacci number in reverse order \n",
    "\n",
    "def reverseFibonacci(n): \n",
    "    a = [0] * n   \n",
    "    a[0] = 0 \n",
    "    a[1] = 1 \n",
    "    for i in range(2, n):   \n",
    "        a[i] = a[i - 2] + a[i - 1]  \n",
    "    for i in range(n - 1, -1 , -1):   \n",
    "        print(a[i],end=\" \")  \n",
    "n = 5 \n",
    "reverseFibonacci(n)  "
   ]
  },
  {
   "cell_type": "code",
   "execution_count": 5,
   "metadata": {},
   "outputs": [
    {
     "name": "stdout",
     "output_type": "stream",
     "text": [
      "89 55 34 21 13 8 5 3 2 1 1 0 "
     ]
    }
   ],
   "source": [
    "def reverseFibonacci(n): \n",
    "    a = [0] * n   \n",
    "    a[0] = 0 \n",
    "    a[1] = 1 \n",
    "    for i in range(2, n):   \n",
    "        a[i] = a[i - 2] + a[i - 1]  \n",
    "    for i in range(n - 1, -1 , -1):   \n",
    "        print(a[i],end=\" \")  \n",
    "n = 12\n",
    "reverseFibonacci(n)  "
   ]
  },
  {
   "cell_type": "code",
   "execution_count": 7,
   "metadata": {},
   "outputs": [
    {
     "name": "stdout",
     "output_type": "stream",
     "text": [
      "*  *  *    "
     ]
    }
   ],
   "source": [
    "# function to print ! symbol insted of numbers\n",
    "\n",
    "def linearsearch3(lst,targetitem):\n",
    "    for x in range(len(lst)):\n",
    "        if lst[x] == targetitem:\n",
    "            j = 0\n",
    "            while j != x+1:\n",
    "                print(\"*\",end=\"  \")\n",
    "                j= j+1\n",
    "            print(end=\"  \")\n",
    "    return\n",
    "lst = [1,4,5]\n",
    "linearsearch3(lst,5) "
   ]
  },
  {
   "cell_type": "code",
   "execution_count": 9,
   "metadata": {},
   "outputs": [
    {
     "name": "stdout",
     "output_type": "stream",
     "text": [
      "TESTING"
     ]
    }
   ],
   "source": [
    "def caps(s):\n",
    "    spacecnt=0\n",
    "    for x in range(len(s)):\n",
    "        if ord(s[x])==32:\n",
    "            spacecnt+=1\n",
    "        if spacecnt==1:\n",
    "            if ord(s[x])>=65 and ord(s[x])<=90:\n",
    "                print(s[x],end=\"\")\n",
    "            elif ord(s[x])>=97 and ord(s[x])<=122:\n",
    "                print(chr(ord(s[x])-32),end=\"\")\n",
    "        if spacecnt==2:\n",
    "            break\n",
    "    return\n",
    "caps(\"application Testing\")"
   ]
  },
  {
   "cell_type": "code",
   "execution_count": 11,
   "metadata": {},
   "outputs": [
    {
     "name": "stdout",
     "output_type": "stream",
     "text": [
      "The 5 th term of the series is : 162\n"
     ]
    }
   ],
   "source": [
    "# term of geometric progression  \n",
    "import math  \n",
    "  \n",
    "def Nth_of_GP(a, r, N):  \n",
    "    return( a * (int)(math.pow(r, N - 1)) )  \n",
    "a = 2\n",
    "r = 3 \n",
    "N = 5   \n",
    "print(\"The\", N, \"th term of the series is :\",  \n",
    "                            Nth_of_GP(a, r, N))  "
   ]
  },
  {
   "cell_type": "code",
   "execution_count": 12,
   "metadata": {},
   "outputs": [
    {
     "name": "stdout",
     "output_type": "stream",
     "text": [
      "1 3 9 27 81 "
     ]
    }
   ],
   "source": [
    "# Series Generation\n",
    "\n",
    "def seriesgeneration(n):\n",
    "    i=1\n",
    "    while i<=n:\n",
    "        print(i,end=\" \")\n",
    "        i=i*3\n",
    "    return\n",
    "seriesgeneration(100)"
   ]
  },
  {
   "cell_type": "code",
   "execution_count": 18,
   "metadata": {},
   "outputs": [
    {
     "ename": "SyntaxError",
     "evalue": "can't assign to function call (<ipython-input-18-d717faf34d5f>, line 7)",
     "output_type": "error",
     "traceback": [
      "\u001b[1;36m  File \u001b[1;32m\"<ipython-input-18-d717faf34d5f>\"\u001b[1;36m, line \u001b[1;32m7\u001b[0m\n\u001b[1;33m    seriesgeneration(n) = i(n-1)+i(n-2)+i(n-3)\u001b[0m\n\u001b[1;37m    ^\u001b[0m\n\u001b[1;31mSyntaxError\u001b[0m\u001b[1;31m:\u001b[0m can't assign to function call\n"
     ]
    }
   ],
   "source": [
    "# Series Generation\n",
    "\n",
    "def seriesgeneration(n):\n",
    "    i=1\n",
    "    while i<=n:\n",
    "        print(i,end=\" \")\n",
    "        seriesgeneration(n) = i(n-1)+i(n-2)+i(n-3)\n",
    "    return\n",
    "seriesgeneration(300)"
   ]
  },
  {
   "cell_type": "code",
   "execution_count": 22,
   "metadata": {},
   "outputs": [
    {
     "name": "stdout",
     "output_type": "stream",
     "text": [
      "Input first String:ABC\n",
      "Input second String:xyz\n"
     ]
    },
    {
     "ename": "TypeError",
     "evalue": "can only concatenate str (not \"int\") to str",
     "output_type": "error",
     "traceback": [
      "\u001b[1;31m---------------------------------------------------------------------------\u001b[0m",
      "\u001b[1;31mTypeError\u001b[0m                                 Traceback (most recent call last)",
      "\u001b[1;32m<ipython-input-22-177893dcbdcf>\u001b[0m in \u001b[0;36m<module>\u001b[1;34m\u001b[0m\n\u001b[0;32m     13\u001b[0m \u001b[1;33m\u001b[0m\u001b[0m\n\u001b[0;32m     14\u001b[0m     \u001b[1;32mif\u001b[0m \u001b[0mf\u001b[0m \u001b[1;32min\u001b[0m \u001b[0mrange\u001b[0m\u001b[1;33m(\u001b[0m\u001b[0mc\u001b[0m\u001b[1;33m,\u001b[0m\u001b[0mc\u001b[0m\u001b[1;33m+\u001b[0m\u001b[1;36m1\u001b[0m\u001b[1;33m)\u001b[0m\u001b[1;33m:\u001b[0m\u001b[1;33m\u001b[0m\u001b[1;33m\u001b[0m\u001b[0m\n\u001b[1;32m---> 15\u001b[1;33m         \u001b[0mx\u001b[0m \u001b[1;33m=\u001b[0m \u001b[0mx\u001b[0m \u001b[1;33m+\u001b[0m \u001b[0mf\u001b[0m\u001b[1;33m\u001b[0m\u001b[1;33m\u001b[0m\u001b[0m\n\u001b[0m\u001b[0;32m     16\u001b[0m \u001b[1;32mfor\u001b[0m \u001b[0mz\u001b[0m \u001b[1;32min\u001b[0m \u001b[0mrange\u001b[0m\u001b[1;33m(\u001b[0m\u001b[0mlenge\u001b[0m\u001b[1;33m)\u001b[0m\u001b[1;33m:\u001b[0m\u001b[1;33m\u001b[0m\u001b[1;33m\u001b[0m\u001b[0m\n\u001b[0;32m     17\u001b[0m \u001b[1;33m\u001b[0m\u001b[0m\n",
      "\u001b[1;31mTypeError\u001b[0m: can only concatenate str (not \"int\") to str"
     ]
    }
   ],
   "source": [
    "# Python Program to Concatenate Strings\n",
    "\n",
    "s=str(input(\"Input first String:\"))\n",
    "v=str(input(\"Input second String:\"))\n",
    "x=\"\"\n",
    "c=1\n",
    "z=\"\"\n",
    "f=\"\"\n",
    "laenge=len(s)\n",
    "lenge=len(v)\n",
    "\n",
    "for f in range(laenge):\n",
    "\n",
    "    if f in range(c,c+1):\n",
    "        x = x + f\n",
    "for z in range(lenge):\n",
    "\n",
    "    if z in range(c,c+1):\n",
    "        x=x+z\n",
    "c=c+1\n",
    "\n",
    "print(x)"
   ]
  },
  {
   "cell_type": "code",
   "execution_count": null,
   "metadata": {},
   "outputs": [],
   "source": []
  },
  {
   "cell_type": "code",
   "execution_count": null,
   "metadata": {},
   "outputs": [],
   "source": []
  }
 ],
 "metadata": {
  "kernelspec": {
   "display_name": "Python 3",
   "language": "python",
   "name": "python3"
  },
  "language_info": {
   "codemirror_mode": {
    "name": "ipython",
    "version": 3
   },
   "file_extension": ".py",
   "mimetype": "text/x-python",
   "name": "python",
   "nbconvert_exporter": "python",
   "pygments_lexer": "ipython3",
   "version": "3.7.3"
  }
 },
 "nbformat": 4,
 "nbformat_minor": 2
}
