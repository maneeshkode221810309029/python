{
 "cells": [
  {
   "cell_type": "markdown",
   "metadata": {},
   "source": [
    "### standard libraries\n",
    "- file I/O\n",
    "- Regular Expression\n",
    "- Date Time\n",
    "- Math (numerical and mathematical)\n"
   ]
  },
  {
   "cell_type": "markdown",
   "metadata": {},
   "source": [
    "- wirte, read, analysis"
   ]
  },
  {
   "cell_type": "markdown",
   "metadata": {},
   "source": [
    "# file handling in python \n",
    "- file :- document containing info\n",
    "- diferent types of files :- txt , doc , csv and etc\n",
    "- input -- keyboard\n",
    "- output -- file\n",
    "\n",
    "# modes of file I/O\n",
    "- 'w' -- this mode is used for writing (or) if the file is not present it will create a file and write some data in it and  if data is present it will rewrite the previous content\n",
    "- "
   ]
  },
  {
   "cell_type": "code",
   "execution_count": 1,
   "metadata": {},
   "outputs": [
    {
     "name": "stdout",
     "output_type": "stream",
     "text": [
      "file is created and data is written\n"
     ]
    }
   ],
   "source": [
    "# function to create a file and write \n",
    "\n",
    "def createfile(filename):\n",
    "    f = open(filename,'w')\n",
    "    for i in range(10):\n",
    "        f.write('this is %d line '%i)\n",
    "    print(\"file is created and data is written\")\n",
    "    return\n",
    "createfile('filetest1.txt')"
   ]
  },
  {
   "cell_type": "code",
   "execution_count": 2,
   "metadata": {},
   "outputs": [
    {
     "name": "stdout",
     "output_type": "stream",
     "text": [
      " Volume in drive C has no label.\n",
      " Volume Serial Number is 70E6-A2BE\n",
      "\n",
      " Directory of C:\\Users\\239\n",
      "\n",
      "11-07-2019  09:37    <DIR>          .\n",
      "11-07-2019  09:37    <DIR>          ..\n",
      "06-05-2019  09:40    <DIR>          .anaconda\n",
      "25-06-2019  15:35             2,460 .bash_history\n",
      "09-07-2019  09:24    <DIR>          .conda\n",
      "09-07-2019  09:24                60 .condarc\n",
      "27-05-2019  07:23    <DIR>          .eclipse\n",
      "21-05-2019  11:43                61 .gitconfig\n",
      "29-06-2019  10:33    <DIR>          .idlerc\n",
      "11-07-2019  09:11    <DIR>          .ipynb_checkpoints\n",
      "06-05-2019  09:45    <DIR>          .ipython\n",
      "08-05-2019  14:16    <DIR>          .jupyter\n",
      "08-05-2019  11:27    <DIR>          .matplotlib\n",
      "08-05-2019  10:27                35 .python_history\n",
      "08-05-2019  11:37    <DIR>          .spyder-py3\n",
      "22-04-2019  16:19    <DIR>          Anaconda3\n",
      "09-07-2019  17:09             2,461 Assignment day-8.ipynb\n",
      "10-07-2019  15:00           180,762 Assignment day-9.ipynb\n",
      "19-03-2019  11:02    <DIR>          Contacts\n",
      "06-07-2019  16:37    <DIR>          Desktop\n",
      "15-05-2019  13:51    <DIR>          Documents\n",
      "10-07-2019  16:40    <DIR>          Downloads\n",
      "19-03-2019  11:02    <DIR>          Favorites\n",
      "11-07-2019  09:37               150 filetest1.txt\n",
      "21-06-2019  17:23    <DIR>          hc files\n",
      "19-03-2019  11:02    <DIR>          Links\n",
      "19-03-2019  11:02    <DIR>          Music\n",
      "19-03-2019  11:02    <DIR>          Pictures\n",
      "11-07-2019  09:36             4,510 python day-10.ipynb\n",
      "09-07-2019  10:33             6,729 python day-5.ipynb\n",
      "06-07-2019  12:56             9,229 python day-6.ipynb\n",
      "08-07-2019  16:55            14,085 python day-7.ipynb\n",
      "10-07-2019  09:17            14,111 python day-8.ipynb\n",
      "11-07-2019  09:20            20,535 python day-9.ipynb\n",
      "15-05-2019  12:57    <DIR>          Python Scripts\n",
      "19-03-2019  11:02    <DIR>          Saved Games\n",
      "26-03-2019  10:57    <DIR>          Searches\n",
      "19-03-2019  11:02    <DIR>          Videos\n",
      "              13 File(s)        255,188 bytes\n",
      "              25 Dir(s)  55,331,307,520 bytes free\n"
     ]
    }
   ],
   "source": [
    "ls"
   ]
  },
  {
   "cell_type": "code",
   "execution_count": 3,
   "metadata": {},
   "outputs": [
    {
     "name": "stdout",
     "output_type": "stream",
     "text": [
      "file is created and data is written\n"
     ]
    }
   ],
   "source": [
    "# wiring data in created file\n",
    "\n",
    "def createfile(filename):\n",
    "    f = open(filename,'w')\n",
    "    f.write(\"testing........\\n\")\n",
    "    print(\"file is created and data is written\")\n",
    "    return\n",
    "createfile('filetest1.txt')"
   ]
  },
  {
   "cell_type": "code",
   "execution_count": 7,
   "metadata": {},
   "outputs": [
    {
     "name": "stdout",
     "output_type": "stream",
     "text": [
      "file created and data written successfully\n"
     ]
    }
   ],
   "source": [
    "# creating another filetest2\n",
    "\n",
    "def appenddata(filename):\n",
    "    f = open(filename,'a')\n",
    "    for i in range(10):\n",
    "         f.write(\"this is %d line\\n\" % i)\n",
    "    print(\"file created and data written successfully\")\n",
    "    return\n",
    "appenddata('filetest2.txt')        "
   ]
  },
  {
   "cell_type": "code",
   "execution_count": 17,
   "metadata": {},
   "outputs": [
    {
     "name": "stdout",
     "output_type": "stream",
     "text": [
      "file created and data written successfully\n"
     ]
    }
   ],
   "source": [
    "# over writing filetest 2\n",
    "\n",
    "def appenddata(filename):\n",
    "    f = open(filename,'a')\n",
    "    f.write(\" new line 1\\n\")\n",
    "    f.write(\" new line 2\\n\")\n",
    "    print(\"file created and data written successfully\")\n",
    "    f.close()\n",
    "    return\n",
    "appenddata('filetest2.txt')    "
   ]
  },
  {
   "cell_type": "code",
   "execution_count": 18,
   "metadata": {},
   "outputs": [
    {
     "name": "stdout",
     "output_type": "stream",
     "text": [
      "this is 0 line\n",
      "this is 1 line\n",
      "this is 2 line\n",
      "this is 3 line\n",
      "this is 4 line\n",
      "this is 5 line\n",
      "this is 6 line\n",
      "this is 7 line\n",
      "this is 8 line\n",
      "this is 9 line\n",
      "  new line 1\n",
      " new line 2\n",
      " new line 1\n",
      " new line 2\n",
      "\n"
     ]
    }
   ],
   "source": [
    "# function to read the file data\n",
    "\n",
    "def  readfiledata(filename):\n",
    "    f = open(filename,'r')\n",
    "    if f.mode == 'r' :\n",
    "        x = f.read()\n",
    "        print(x)\n",
    "    f.close()\n",
    "    return\n",
    "readfiledata('filetest2.txt')"
   ]
  },
  {
   "cell_type": "code",
   "execution_count": 21,
   "metadata": {},
   "outputs": [
    {
     "name": "stdout",
     "output_type": "stream",
     "text": [
      "enter the file name :filetest3.txt\n",
      "enter the mode of the file :r\n",
      "data to the file\n"
     ]
    }
   ],
   "source": [
    "# function to read the file\n",
    "\n",
    "def readfiledata(filename,mode):\n",
    "    with open(filename,mode) as f:\n",
    "        if f.mode == 'r' :\n",
    "            data = f.read()\n",
    "            print(data)\n",
    "        elif f.mode == 'a':    \n",
    "            f.write('data to the file')\n",
    "            print (\"data successfully written\")\n",
    "    f.close() \n",
    "    return\n",
    "filename = input('enter the file name :')\n",
    "mode = input('enter the mode of the file :')\n",
    "readfiledata(filename,mode)"
   ]
  },
  {
   "cell_type": "code",
   "execution_count": 24,
   "metadata": {},
   "outputs": [
    {
     "name": "stdout",
     "output_type": "stream",
     "text": [
      "enter the file name : filetest2.txt\n",
      "enter the word count you need : line\n"
     ]
    },
    {
     "data": {
      "text/plain": [
       "12"
      ]
     },
     "execution_count": 24,
     "metadata": {},
     "output_type": "execute_result"
    }
   ],
   "source": [
    "# data analysis\n",
    "# word count program\n",
    "\n",
    "def wordcount(filename,word):\n",
    "    with open(filename, 'r') as f:\n",
    "        if f.mode == 'r':\n",
    "            x = f.read()\n",
    "            li = x.split()\n",
    "    cnt = li.count(word)        \n",
    "    return cnt\n",
    "filename = input(\"enter the file name : \")\n",
    "word = input(\"enter the word count you need : \") \n",
    "wordcount(filename,word)"
   ]
  },
  {
   "cell_type": "code",
   "execution_count": 25,
   "metadata": {},
   "outputs": [
    {
     "name": "stdout",
     "output_type": "stream",
     "text": [
      "enter he filename : filetest2.txt\n"
     ]
    },
    {
     "data": {
      "text/plain": [
       "174"
      ]
     },
     "execution_count": 25,
     "metadata": {},
     "output_type": "execute_result"
    }
   ],
   "source": [
    "# function to perform character count from the given file \n",
    "\n",
    "def charcount(filename):\n",
    "    with open(filename,'r') as f:\n",
    "        if f.mode == 'r':\n",
    "            x = f.read()\n",
    "            li = list(x)        \n",
    "    return len(li)\n",
    "filename = input(\"enter he filename : \")\n",
    "charcount(filename)"
   ]
  },
  {
   "cell_type": "code",
   "execution_count": 32,
   "metadata": {},
   "outputs": [
    {
     "name": "stdout",
     "output_type": "stream",
     "text": [
      "Enter the filename : filetest2.txt\n"
     ]
    },
    {
     "data": {
      "text/plain": [
       "13"
      ]
     },
     "execution_count": 32,
     "metadata": {},
     "output_type": "execute_result"
    }
   ],
   "source": [
    "# function to find the no.of lines in the input file\n",
    "\n",
    "def countoflines(filename):\n",
    "    with open(filename,'r') as f:\n",
    "        if f.mode =='r':\n",
    "            x=f.read()\n",
    "            li=x.split(\"\\n\")\n",
    "    return len(li)\n",
    "filename=input('Enter the filename : ')\n",
    "countoflines(filename)"
   ]
  },
  {
   "cell_type": "code",
   "execution_count": 40,
   "metadata": {},
   "outputs": [
    {
     "name": "stdout",
     "output_type": "stream",
     "text": [
      "Enter the filename : filetest1.txt\n"
     ]
    },
    {
     "data": {
      "text/plain": [
       "'Upper Case = 0 , Lower Case = 7'"
      ]
     },
     "execution_count": 40,
     "metadata": {},
     "output_type": "execute_result"
    }
   ],
   "source": [
    "# function to find the count of lower and upper case characters\n",
    "\n",
    "def caseCount(filename):\n",
    "    cntUpper=0\n",
    "    cntLower=0\n",
    "    with open(filename,'r') as f:\n",
    "        if f.mode == 'r':\n",
    "            x=f.read()\n",
    "            li=list(x)\n",
    "    for i in li:\n",
    "        if i.isupper():\n",
    "            cntUpper += 1 #cntUpper = cntUpper + 1\n",
    "        elif i.islower():\n",
    "            cntLower += 1 #cntLower + 1\n",
    "    output = 'Upper Case = {0} , Lower Case = {1}'.format(cntUpper,cntLower)\n",
    "    return output\n",
    "filename = input('Enter the filename : ')\n",
    "caseCount(filename)"
   ]
  },
  {
   "cell_type": "markdown",
   "metadata": {},
   "source": [
    "### math, random, os\n",
    "- os package it contains the certain methods which works with OS."
   ]
  },
  {
   "cell_type": "code",
   "execution_count": 41,
   "metadata": {},
   "outputs": [
    {
     "name": "stdout",
     "output_type": "stream",
     "text": [
      " Volume in drive C has no label.\n",
      " Volume Serial Number is 70E6-A2BE\n",
      "\n",
      " Directory of C:\\Users\\239\n",
      "\n",
      "11-07-2019  12:34    <DIR>          .\n",
      "11-07-2019  12:34    <DIR>          ..\n",
      "06-05-2019  09:40    <DIR>          .anaconda\n",
      "25-06-2019  15:35             2,460 .bash_history\n",
      "09-07-2019  09:24    <DIR>          .conda\n",
      "09-07-2019  09:24                60 .condarc\n",
      "27-05-2019  07:23    <DIR>          .eclipse\n",
      "21-05-2019  11:43                61 .gitconfig\n",
      "29-06-2019  10:33    <DIR>          .idlerc\n",
      "11-07-2019  09:11    <DIR>          .ipynb_checkpoints\n",
      "06-05-2019  09:45    <DIR>          .ipython\n",
      "08-05-2019  14:16    <DIR>          .jupyter\n",
      "08-05-2019  11:27    <DIR>          .matplotlib\n",
      "08-05-2019  10:27                35 .python_history\n",
      "08-05-2019  11:37    <DIR>          .spyder-py3\n",
      "22-04-2019  16:19    <DIR>          Anaconda3\n",
      "09-07-2019  17:09             2,461 Assignment day-8.ipynb\n",
      "10-07-2019  15:00           180,762 Assignment day-9.ipynb\n",
      "19-03-2019  11:02    <DIR>          Contacts\n",
      "06-07-2019  16:37    <DIR>          Desktop\n",
      "15-05-2019  13:51    <DIR>          Documents\n",
      "10-07-2019  16:40    <DIR>          Downloads\n",
      "19-03-2019  11:02    <DIR>          Favorites\n",
      "11-07-2019  09:52                17 filetest1.txt\n",
      "11-07-2019  10:20               186 filetest2.txt\n",
      "11-07-2019  10:29                16 filetest3.txt\n",
      "21-06-2019  17:23    <DIR>          hc files\n",
      "19-03-2019  11:02    <DIR>          Links\n",
      "19-03-2019  11:02    <DIR>          Music\n",
      "19-03-2019  11:02    <DIR>          Pictures\n",
      "11-07-2019  12:34            15,927 python day-10.ipynb\n",
      "09-07-2019  10:33             6,729 python day-5.ipynb\n",
      "06-07-2019  12:56             9,229 python day-6.ipynb\n",
      "08-07-2019  16:55            14,085 python day-7.ipynb\n",
      "10-07-2019  09:17            14,111 python day-8.ipynb\n",
      "11-07-2019  09:20            20,535 python day-9.ipynb\n",
      "15-05-2019  12:57    <DIR>          Python Scripts\n",
      "19-03-2019  11:02    <DIR>          Saved Games\n",
      "26-03-2019  10:57    <DIR>          Searches\n",
      "19-03-2019  11:02    <DIR>          Videos\n",
      "              15 File(s)        266,674 bytes\n",
      "              25 Dir(s)  55,417,085,952 bytes free\n"
     ]
    }
   ],
   "source": [
    "ls"
   ]
  },
  {
   "cell_type": "code",
   "execution_count": 42,
   "metadata": {},
   "outputs": [
    {
     "name": "stdout",
     "output_type": "stream",
     "text": [
      "C:\\Users\\239\\Desktop\n"
     ]
    }
   ],
   "source": [
    "cd Desktop"
   ]
  },
  {
   "cell_type": "code",
   "execution_count": 47,
   "metadata": {},
   "outputs": [
    {
     "name": "stdout",
     "output_type": "stream",
     "text": [
      "[WinError 2] The system cannot find the file specified: 'cs9@29'\n",
      "C:\\Users\\239\\Desktop\\cs9@29\n"
     ]
    }
   ],
   "source": [
    "cd cs9@29"
   ]
  },
  {
   "cell_type": "code",
   "execution_count": 50,
   "metadata": {},
   "outputs": [
    {
     "name": "stdout",
     "output_type": "stream",
     "text": [
      "C:\\Users\\239\\Desktop\\cs9@29\\git\n"
     ]
    }
   ],
   "source": [
    "cd git"
   ]
  },
  {
   "cell_type": "code",
   "execution_count": 51,
   "metadata": {},
   "outputs": [
    {
     "ename": "SyntaxError",
     "evalue": "invalid syntax (<ipython-input-51-191f611a3b97>, line 1)",
     "output_type": "error",
     "traceback": [
      "\u001b[1;36m  File \u001b[1;32m\"<ipython-input-51-191f611a3b97>\"\u001b[1;36m, line \u001b[1;32m1\u001b[0m\n\u001b[1;33m    import os.listdir('git/')\u001b[0m\n\u001b[1;37m                     ^\u001b[0m\n\u001b[1;31mSyntaxError\u001b[0m\u001b[1;31m:\u001b[0m invalid syntax\n"
     ]
    }
   ],
   "source": [
    "import os.listdir('git/')\n",
    "for i in li:\n",
    "    print(i)"
   ]
  },
  {
   "cell_type": "markdown",
   "metadata": {},
   "source": [
    "# Listing all files into a directory"
   ]
  },
  {
   "cell_type": "code",
   "execution_count": 2,
   "metadata": {},
   "outputs": [
    {
     "ename": "SyntaxError",
     "evalue": "invalid syntax (<ipython-input-2-98a86fb5adb6>, line 4)",
     "output_type": "error",
     "traceback": [
      "\u001b[1;36m  File \u001b[1;32m\"<ipython-input-2-98a86fb5adb6>\"\u001b[1;36m, line \u001b[1;32m4\u001b[0m\n\u001b[1;33m    if os.path.isfile\u001b[0m\n\u001b[1;37m                     ^\u001b[0m\n\u001b[1;31mSyntaxError\u001b[0m\u001b[1;31m:\u001b[0m invalid syntax\n"
     ]
    }
   ],
   "source": [
    "import os\n",
    "dirPath = \"Git/\"\n",
    "for i in os.listdir(dirPath):\n",
    "    if os.path.isfile"
   ]
  },
  {
   "cell_type": "code",
   "execution_count": 3,
   "metadata": {},
   "outputs": [
    {
     "ename": "FileNotFoundError",
     "evalue": "[WinError 3] The system cannot find the path specified: 'Git/'",
     "output_type": "error",
     "traceback": [
      "\u001b[1;31m---------------------------------------------------------------------------\u001b[0m",
      "\u001b[1;31mFileNotFoundError\u001b[0m                         Traceback (most recent call last)",
      "\u001b[1;32m<ipython-input-3-612bfd0b1184>\u001b[0m in \u001b[0;36m<module>\u001b[1;34m\u001b[0m\n\u001b[0;32m      1\u001b[0m \u001b[1;32mimport\u001b[0m \u001b[0mos\u001b[0m\u001b[1;33m\u001b[0m\u001b[1;33m\u001b[0m\u001b[0m\n\u001b[0;32m      2\u001b[0m \u001b[0mdirPath\u001b[0m \u001b[1;33m=\u001b[0m \u001b[1;34m\"Git/\"\u001b[0m\u001b[1;33m\u001b[0m\u001b[1;33m\u001b[0m\u001b[0m\n\u001b[1;32m----> 3\u001b[1;33m \u001b[1;32mfor\u001b[0m \u001b[0mi\u001b[0m \u001b[1;32min\u001b[0m \u001b[0mos\u001b[0m\u001b[1;33m.\u001b[0m\u001b[0mlistdir\u001b[0m\u001b[1;33m(\u001b[0m\u001b[0mdirPath\u001b[0m\u001b[1;33m)\u001b[0m\u001b[1;33m:\u001b[0m\u001b[1;33m\u001b[0m\u001b[1;33m\u001b[0m\u001b[0m\n\u001b[0m\u001b[0;32m      4\u001b[0m     \u001b[1;32mif\u001b[0m \u001b[0mos\u001b[0m\u001b[1;33m.\u001b[0m\u001b[0mpath\u001b[0m\u001b[1;33m.\u001b[0m\u001b[0misfile\u001b[0m\u001b[1;33m(\u001b[0m\u001b[0mos\u001b[0m\u001b[1;33m.\u001b[0m\u001b[0mpath\u001b[0m\u001b[1;33m.\u001b[0m\u001b[0mjoin\u001b[0m\u001b[1;33m(\u001b[0m\u001b[0mdirpath\u001b[0m\u001b[1;33m,\u001b[0m\u001b[0mi\u001b[0m\u001b[1;33m)\u001b[0m\u001b[1;33m)\u001b[0m\u001b[1;33m:\u001b[0m\u001b[1;33m\u001b[0m\u001b[1;33m\u001b[0m\u001b[0m\n\u001b[0;32m      5\u001b[0m         \u001b[0mprint\u001b[0m\u001b[1;33m(\u001b[0m\u001b[0mi\u001b[0m\u001b[1;33m)\u001b[0m\u001b[1;33m\u001b[0m\u001b[1;33m\u001b[0m\u001b[0m\n",
      "\u001b[1;31mFileNotFoundError\u001b[0m: [WinError 3] The system cannot find the path specified: 'Git/'"
     ]
    }
   ],
   "source": [
    "import os\n",
    "dirPath = \"Git/\"\n",
    "for i in os.listdir(dirPath):\n",
    "    if os.path.isfile(os.path.join(dirpath,i)):\n",
    "        print(i)"
   ]
  },
  {
   "cell_type": "code",
   "execution_count": 1,
   "metadata": {},
   "outputs": [
    {
     "data": {
      "text/plain": [
       "'C:\\\\Users\\\\239'"
      ]
     },
     "execution_count": 1,
     "metadata": {},
     "output_type": "execute_result"
    }
   ],
   "source": [
    "pwd"
   ]
  },
  {
   "cell_type": "code",
   "execution_count": 2,
   "metadata": {},
   "outputs": [
    {
     "ename": "NameError",
     "evalue": "name 'os' is not defined",
     "output_type": "error",
     "traceback": [
      "\u001b[1;31m---------------------------------------------------------------------------\u001b[0m",
      "\u001b[1;31mNameError\u001b[0m                                 Traceback (most recent call last)",
      "\u001b[1;32m<ipython-input-2-738abd291fa4>\u001b[0m in \u001b[0;36m<module>\u001b[1;34m\u001b[0m\n\u001b[0;32m      1\u001b[0m \u001b[0mdirpath\u001b[0m \u001b[1;33m=\u001b[0m \u001b[1;34m'git/'\u001b[0m\u001b[1;33m\u001b[0m\u001b[1;33m\u001b[0m\u001b[0m\n\u001b[1;32m----> 2\u001b[1;33m \u001b[1;32mwith\u001b[0m \u001b[0mos\u001b[0m\u001b[1;33m.\u001b[0m\u001b[0mscandir\u001b[0m\u001b[1;33m(\u001b[0m\u001b[0mdirpath\u001b[0m\u001b[1;33m)\u001b[0m \u001b[1;32mas\u001b[0m \u001b[0mf\u001b[0m\u001b[1;33m:\u001b[0m\u001b[1;33m\u001b[0m\u001b[1;33m\u001b[0m\u001b[0m\n\u001b[0m\u001b[0;32m      3\u001b[0m     \u001b[1;32mfor\u001b[0m \u001b[0mi\u001b[0m \u001b[1;32min\u001b[0m \u001b[0mf\u001b[0m\u001b[1;33m:\u001b[0m\u001b[1;33m\u001b[0m\u001b[1;33m\u001b[0m\u001b[0m\n\u001b[0;32m      4\u001b[0m         \u001b[1;32mif\u001b[0m \u001b[0mi\u001b[0m \u001b[1;33m.\u001b[0m\u001b[0mis_file\u001b[0m\u001b[1;33m(\u001b[0m\u001b[1;33m)\u001b[0m\u001b[1;33m:\u001b[0m\u001b[1;33m\u001b[0m\u001b[1;33m\u001b[0m\u001b[0m\n\u001b[0;32m      5\u001b[0m             \u001b[0mprint\u001b[0m\u001b[1;33m(\u001b[0m\u001b[0mi\u001b[0m\u001b[1;33m.\u001b[0m\u001b[0mname\u001b[0m\u001b[1;33m)\u001b[0m\u001b[1;33m\u001b[0m\u001b[1;33m\u001b[0m\u001b[0m\n",
      "\u001b[1;31mNameError\u001b[0m: name 'os' is not defined"
     ]
    }
   ],
   "source": [
    "dirpath = 'git/'\n",
    "with os.scandir(dirpath) as f:\n",
    "    for i in f:\n",
    "        if i .is_file():\n",
    "            print(i.name)"
   ]
  },
  {
   "cell_type": "markdown",
   "metadata": {},
   "source": [
    "# Listing Subdirectories"
   ]
  },
  {
   "cell_type": "code",
   "execution_count": 3,
   "metadata": {},
   "outputs": [
    {
     "ename": "SyntaxError",
     "evalue": "invalid syntax (<ipython-input-3-c4d0cdcfdc35>, line 1)",
     "output_type": "error",
     "traceback": [
      "\u001b[1;36m  File \u001b[1;32m\"<ipython-input-3-c4d0cdcfdc35>\"\u001b[1;36m, line \u001b[1;32m1\u001b[0m\n\u001b[1;33m    dirpath 'git/'\u001b[0m\n\u001b[1;37m                 ^\u001b[0m\n\u001b[1;31mSyntaxError\u001b[0m\u001b[1;31m:\u001b[0m invalid syntax\n"
     ]
    }
   ],
   "source": [
    "dirpath 'git/'\n",
    "for i os.listdir(dirpath):\n",
    "    if os.path.isdir(os.path.join(dirpath,i)):\n",
    "        print(i)"
   ]
  },
  {
   "cell_type": "code",
   "execution_count": 4,
   "metadata": {},
   "outputs": [
    {
     "ename": "NameError",
     "evalue": "name 'os' is not defined",
     "output_type": "error",
     "traceback": [
      "\u001b[1;31m---------------------------------------------------------------------------\u001b[0m",
      "\u001b[1;31mNameError\u001b[0m                                 Traceback (most recent call last)",
      "\u001b[1;32m<ipython-input-4-bd8b0ff1ea72>\u001b[0m in \u001b[0;36m<module>\u001b[1;34m\u001b[0m\n\u001b[0;32m      1\u001b[0m \u001b[0mdirpath\u001b[0m \u001b[1;33m=\u001b[0m \u001b[1;34m'git/'\u001b[0m\u001b[1;33m\u001b[0m\u001b[1;33m\u001b[0m\u001b[0m\n\u001b[1;32m----> 2\u001b[1;33m \u001b[1;32mwith\u001b[0m \u001b[0mos\u001b[0m\u001b[1;33m.\u001b[0m\u001b[0mscandir\u001b[0m\u001b[1;33m(\u001b[0m\u001b[0mdirpath\u001b[0m\u001b[1;33m)\u001b[0m \u001b[1;32mas\u001b[0m \u001b[0mf\u001b[0m\u001b[1;33m:\u001b[0m\u001b[1;33m\u001b[0m\u001b[1;33m\u001b[0m\u001b[0m\n\u001b[0m\u001b[0;32m      3\u001b[0m     \u001b[1;32mfor\u001b[0m \u001b[0mi\u001b[0m \u001b[1;32min\u001b[0m \u001b[0mf\u001b[0m\u001b[1;33m:\u001b[0m\u001b[1;33m\u001b[0m\u001b[1;33m\u001b[0m\u001b[0m\n\u001b[0;32m      4\u001b[0m         \u001b[1;32mif\u001b[0m \u001b[0mi\u001b[0m \u001b[1;33m.\u001b[0m\u001b[0mis_dir\u001b[0m\u001b[1;33m(\u001b[0m\u001b[1;33m)\u001b[0m\u001b[1;33m:\u001b[0m\u001b[1;33m\u001b[0m\u001b[1;33m\u001b[0m\u001b[0m\n\u001b[0;32m      5\u001b[0m             \u001b[0mprint\u001b[0m\u001b[1;33m(\u001b[0m\u001b[0mi\u001b[0m\u001b[1;33m.\u001b[0m\u001b[0mname\u001b[0m\u001b[1;33m)\u001b[0m\u001b[1;33m\u001b[0m\u001b[1;33m\u001b[0m\u001b[0m\n",
      "\u001b[1;31mNameError\u001b[0m: name 'os' is not defined"
     ]
    }
   ],
   "source": [
    "dirpath = 'git/'\n",
    "with os.scandir(dirpath) as f:\n",
    "    for i in f:\n",
    "        if i .is_dir():\n",
    "            print(i.name)"
   ]
  },
  {
   "cell_type": "markdown",
   "metadata": {},
   "source": [
    "# creating a single directory"
   ]
  },
  {
   "cell_type": "code",
   "execution_count": 6,
   "metadata": {},
   "outputs": [
    {
     "ename": "FileExistsError",
     "evalue": "[WinError 183] Cannot create a file when that file already exists: 'singledirectory'",
     "output_type": "error",
     "traceback": [
      "\u001b[1;31m---------------------------------------------------------------------------\u001b[0m",
      "\u001b[1;31mFileExistsError\u001b[0m                           Traceback (most recent call last)",
      "\u001b[1;32m<ipython-input-6-9ec91d7e4297>\u001b[0m in \u001b[0;36m<module>\u001b[1;34m\u001b[0m\n\u001b[0;32m      1\u001b[0m \u001b[1;32mimport\u001b[0m \u001b[0mos\u001b[0m\u001b[1;33m\u001b[0m\u001b[1;33m\u001b[0m\u001b[0m\n\u001b[1;32m----> 2\u001b[1;33m \u001b[0mos\u001b[0m\u001b[1;33m.\u001b[0m\u001b[0mmkdir\u001b[0m\u001b[1;33m(\u001b[0m\u001b[1;34m'singledirectory'\u001b[0m\u001b[1;33m)\u001b[0m\u001b[1;33m\u001b[0m\u001b[1;33m\u001b[0m\u001b[0m\n\u001b[0m",
      "\u001b[1;31mFileExistsError\u001b[0m: [WinError 183] Cannot create a file when that file already exists: 'singledirectory'"
     ]
    }
   ],
   "source": [
    "import os \n",
    "os.mkdir('singledirectory')"
   ]
  },
  {
   "cell_type": "code",
   "execution_count": 10,
   "metadata": {},
   "outputs": [
    {
     "ename": "FileExistsError",
     "evalue": "[WinError 183] Cannot create a file when that file already exists: 'testfolder'",
     "output_type": "error",
     "traceback": [
      "\u001b[1;31m---------------------------------------------------------------------------\u001b[0m",
      "\u001b[1;31mFileExistsError\u001b[0m                           Traceback (most recent call last)",
      "\u001b[1;32m<ipython-input-10-1519cb25b049>\u001b[0m in \u001b[0;36m<module>\u001b[1;34m\u001b[0m\n\u001b[0;32m      1\u001b[0m \u001b[1;32mimport\u001b[0m \u001b[0mpathlib\u001b[0m\u001b[1;33m\u001b[0m\u001b[1;33m\u001b[0m\u001b[0m\n\u001b[0;32m      2\u001b[0m \u001b[0mp\u001b[0m \u001b[1;33m=\u001b[0m \u001b[0mpathlib\u001b[0m\u001b[1;33m.\u001b[0m\u001b[0mPath\u001b[0m\u001b[1;33m(\u001b[0m\u001b[1;34m'testfolder'\u001b[0m\u001b[1;33m)\u001b[0m\u001b[1;33m\u001b[0m\u001b[1;33m\u001b[0m\u001b[0m\n\u001b[1;32m----> 3\u001b[1;33m \u001b[0mp\u001b[0m\u001b[1;33m.\u001b[0m\u001b[0mmkdir\u001b[0m\u001b[1;33m(\u001b[0m\u001b[1;33m)\u001b[0m\u001b[1;33m\u001b[0m\u001b[1;33m\u001b[0m\u001b[0m\n\u001b[0m",
      "\u001b[1;32m~\\Anaconda3\\lib\\pathlib.py\u001b[0m in \u001b[0;36mmkdir\u001b[1;34m(self, mode, parents, exist_ok)\u001b[0m\n\u001b[0;32m   1249\u001b[0m             \u001b[0mself\u001b[0m\u001b[1;33m.\u001b[0m\u001b[0m_raise_closed\u001b[0m\u001b[1;33m(\u001b[0m\u001b[1;33m)\u001b[0m\u001b[1;33m\u001b[0m\u001b[1;33m\u001b[0m\u001b[0m\n\u001b[0;32m   1250\u001b[0m         \u001b[1;32mtry\u001b[0m\u001b[1;33m:\u001b[0m\u001b[1;33m\u001b[0m\u001b[1;33m\u001b[0m\u001b[0m\n\u001b[1;32m-> 1251\u001b[1;33m             \u001b[0mself\u001b[0m\u001b[1;33m.\u001b[0m\u001b[0m_accessor\u001b[0m\u001b[1;33m.\u001b[0m\u001b[0mmkdir\u001b[0m\u001b[1;33m(\u001b[0m\u001b[0mself\u001b[0m\u001b[1;33m,\u001b[0m \u001b[0mmode\u001b[0m\u001b[1;33m)\u001b[0m\u001b[1;33m\u001b[0m\u001b[1;33m\u001b[0m\u001b[0m\n\u001b[0m\u001b[0;32m   1252\u001b[0m         \u001b[1;32mexcept\u001b[0m \u001b[0mFileNotFoundError\u001b[0m\u001b[1;33m:\u001b[0m\u001b[1;33m\u001b[0m\u001b[1;33m\u001b[0m\u001b[0m\n\u001b[0;32m   1253\u001b[0m             \u001b[1;32mif\u001b[0m \u001b[1;32mnot\u001b[0m \u001b[0mparents\u001b[0m \u001b[1;32mor\u001b[0m \u001b[0mself\u001b[0m\u001b[1;33m.\u001b[0m\u001b[0mparent\u001b[0m \u001b[1;33m==\u001b[0m \u001b[0mself\u001b[0m\u001b[1;33m:\u001b[0m\u001b[1;33m\u001b[0m\u001b[1;33m\u001b[0m\u001b[0m\n",
      "\u001b[1;31mFileExistsError\u001b[0m: [WinError 183] Cannot create a file when that file already exists: 'testfolder'"
     ]
    }
   ],
   "source": [
    "import pathlib\n",
    "p = pathlib.Path('testfolder')\n",
    "p.mkdir()"
   ]
  },
  {
   "cell_type": "code",
   "execution_count": 8,
   "metadata": {},
   "outputs": [
    {
     "name": "stdout",
     "output_type": "stream",
     "text": [
      " Volume in drive C has no label.\n",
      " Volume Serial Number is 70E6-A2BE\n",
      "\n",
      " Directory of C:\\Users\\239\n",
      "\n",
      "11-07-2019  14:54    <DIR>          .\n",
      "11-07-2019  14:54    <DIR>          ..\n",
      "06-05-2019  09:40    <DIR>          .anaconda\n",
      "25-06-2019  15:35             2,460 .bash_history\n",
      "09-07-2019  09:24    <DIR>          .conda\n",
      "09-07-2019  09:24                60 .condarc\n",
      "27-05-2019  07:23    <DIR>          .eclipse\n",
      "21-05-2019  11:43                61 .gitconfig\n",
      "29-06-2019  10:33    <DIR>          .idlerc\n",
      "11-07-2019  09:11    <DIR>          .ipynb_checkpoints\n",
      "06-05-2019  09:45    <DIR>          .ipython\n",
      "08-05-2019  14:16    <DIR>          .jupyter\n",
      "08-05-2019  11:27    <DIR>          .matplotlib\n",
      "08-05-2019  10:27                35 .python_history\n",
      "08-05-2019  11:37    <DIR>          .spyder-py3\n",
      "22-04-2019  16:19    <DIR>          Anaconda3\n",
      "09-07-2019  17:09             2,461 Assignment day-8.ipynb\n",
      "10-07-2019  15:00           180,762 Assignment day-9.ipynb\n",
      "19-03-2019  11:02    <DIR>          Contacts\n",
      "06-07-2019  16:37    <DIR>          Desktop\n",
      "15-05-2019  13:51    <DIR>          Documents\n",
      "10-07-2019  16:40    <DIR>          Downloads\n",
      "19-03-2019  11:02    <DIR>          Favorites\n",
      "11-07-2019  09:52                17 filetest1.txt\n",
      "11-07-2019  10:20               186 filetest2.txt\n",
      "11-07-2019  10:29                16 filetest3.txt\n",
      "21-06-2019  17:23    <DIR>          hc files\n",
      "19-03-2019  11:02    <DIR>          Links\n",
      "19-03-2019  11:02    <DIR>          Music\n",
      "19-03-2019  11:02    <DIR>          Pictures\n",
      "11-07-2019  14:54            27,044 python day-10.ipynb\n",
      "09-07-2019  10:33             6,729 python day-5.ipynb\n",
      "06-07-2019  12:56             9,229 python day-6.ipynb\n",
      "08-07-2019  16:55            14,085 python day-7.ipynb\n",
      "10-07-2019  09:17            14,111 python day-8.ipynb\n",
      "11-07-2019  09:20            20,535 python day-9.ipynb\n",
      "15-05-2019  12:57    <DIR>          Python Scripts\n",
      "19-03-2019  11:02    <DIR>          Saved Games\n",
      "26-03-2019  10:57    <DIR>          Searches\n",
      "11-07-2019  14:54    <DIR>          singledirectory\n",
      "19-03-2019  11:02    <DIR>          Videos\n",
      "              15 File(s)        277,791 bytes\n",
      "              26 Dir(s)  54,979,547,136 bytes free\n"
     ]
    }
   ],
   "source": [
    "ls\n"
   ]
  },
  {
   "cell_type": "markdown",
   "metadata": {},
   "source": [
    "# creating multiple directories"
   ]
  },
  {
   "cell_type": "code",
   "execution_count": 13,
   "metadata": {},
   "outputs": [],
   "source": [
    "import os\n",
    "os.makedirs('2019/july/11')"
   ]
  },
  {
   "cell_type": "code",
   "execution_count": 14,
   "metadata": {},
   "outputs": [
    {
     "name": "stdout",
     "output_type": "stream",
     "text": [
      " Volume in drive C has no label.\n",
      " Volume Serial Number is 70E6-A2BE\n",
      "\n",
      " Directory of C:\\Users\\239\n",
      "\n",
      "11-07-2019  15:04    <DIR>          .\n",
      "11-07-2019  15:04    <DIR>          ..\n",
      "06-05-2019  09:40    <DIR>          .anaconda\n",
      "25-06-2019  15:35             2,460 .bash_history\n",
      "09-07-2019  09:24    <DIR>          .conda\n",
      "09-07-2019  09:24                60 .condarc\n",
      "27-05-2019  07:23    <DIR>          .eclipse\n",
      "21-05-2019  11:43                61 .gitconfig\n",
      "29-06-2019  10:33    <DIR>          .idlerc\n",
      "11-07-2019  09:11    <DIR>          .ipynb_checkpoints\n",
      "06-05-2019  09:45    <DIR>          .ipython\n",
      "08-05-2019  14:16    <DIR>          .jupyter\n",
      "08-05-2019  11:27    <DIR>          .matplotlib\n",
      "08-05-2019  10:27                35 .python_history\n",
      "08-05-2019  11:37    <DIR>          .spyder-py3\n",
      "11-07-2019  15:04    <DIR>          2019\n",
      "22-04-2019  16:19    <DIR>          Anaconda3\n",
      "09-07-2019  17:09             2,461 Assignment day-8.ipynb\n",
      "10-07-2019  15:00           180,762 Assignment day-9.ipynb\n",
      "19-03-2019  11:02    <DIR>          Contacts\n",
      "06-07-2019  16:37    <DIR>          Desktop\n",
      "15-05-2019  13:51    <DIR>          Documents\n",
      "10-07-2019  16:40    <DIR>          Downloads\n",
      "19-03-2019  11:02    <DIR>          Favorites\n",
      "11-07-2019  09:52                17 filetest1.txt\n",
      "11-07-2019  10:20               186 filetest2.txt\n",
      "11-07-2019  10:29                16 filetest3.txt\n",
      "21-06-2019  17:23    <DIR>          hc files\n",
      "19-03-2019  11:02    <DIR>          Links\n",
      "19-03-2019  11:02    <DIR>          Music\n",
      "19-03-2019  11:02    <DIR>          Pictures\n",
      "11-07-2019  15:04            33,468 python day-10.ipynb\n",
      "09-07-2019  10:33             6,729 python day-5.ipynb\n",
      "06-07-2019  12:56             9,229 python day-6.ipynb\n",
      "08-07-2019  16:55            14,085 python day-7.ipynb\n",
      "10-07-2019  09:17            14,111 python day-8.ipynb\n",
      "11-07-2019  09:20            20,535 python day-9.ipynb\n",
      "15-05-2019  12:57    <DIR>          Python Scripts\n",
      "19-03-2019  11:02    <DIR>          Saved Games\n",
      "26-03-2019  10:57    <DIR>          Searches\n",
      "11-07-2019  14:54    <DIR>          singledirectory\n",
      "11-07-2019  14:56    <DIR>          testfolder\n",
      "19-03-2019  11:02    <DIR>          Videos\n",
      "              15 File(s)        284,215 bytes\n",
      "              28 Dir(s)  54,977,761,280 bytes free\n"
     ]
    }
   ],
   "source": [
    "ls"
   ]
  },
  {
   "cell_type": "markdown",
   "metadata": {},
   "source": [
    "# Filename pattern Matching"
   ]
  },
  {
   "cell_type": "code",
   "execution_count": 17,
   "metadata": {},
   "outputs": [
    {
     "ename": "FileNotFoundError",
     "evalue": "[WinError 3] The system cannot find the path specified: 'git/'",
     "output_type": "error",
     "traceback": [
      "\u001b[1;31m---------------------------------------------------------------------------\u001b[0m",
      "\u001b[1;31mFileNotFoundError\u001b[0m                         Traceback (most recent call last)",
      "\u001b[1;32m<ipython-input-17-d6940028b39c>\u001b[0m in \u001b[0;36m<module>\u001b[1;34m\u001b[0m\n\u001b[0;32m      1\u001b[0m \u001b[1;32mimport\u001b[0m \u001b[0mos\u001b[0m\u001b[1;33m\u001b[0m\u001b[1;33m\u001b[0m\u001b[0m\n\u001b[0;32m      2\u001b[0m \u001b[0mdirPath\u001b[0m \u001b[1;33m=\u001b[0m \u001b[1;34m'git/'\u001b[0m\u001b[1;33m\u001b[0m\u001b[1;33m\u001b[0m\u001b[0m\n\u001b[1;32m----> 3\u001b[1;33m \u001b[1;32mfor\u001b[0m \u001b[0mf_name\u001b[0m \u001b[1;32min\u001b[0m \u001b[0mos\u001b[0m\u001b[1;33m.\u001b[0m\u001b[0mlistdir\u001b[0m\u001b[1;33m(\u001b[0m\u001b[0mdirPath\u001b[0m\u001b[1;33m)\u001b[0m\u001b[1;33m:\u001b[0m\u001b[1;33m\u001b[0m\u001b[1;33m\u001b[0m\u001b[0m\n\u001b[0m\u001b[0;32m      4\u001b[0m     \u001b[1;32mif\u001b[0m \u001b[0mf_name\u001b[0m\u001b[1;33m.\u001b[0m\u001b[0mendswith\u001b[0m\u001b[1;33m(\u001b[0m\u001b[1;34m'.ipynb'\u001b[0m\u001b[1;33m)\u001b[0m\u001b[1;33m:\u001b[0m\u001b[1;33m\u001b[0m\u001b[1;33m\u001b[0m\u001b[0m\n\u001b[0;32m      5\u001b[0m         \u001b[0mprint\u001b[0m\u001b[1;33m(\u001b[0m\u001b[0mf_name\u001b[0m\u001b[1;33m)\u001b[0m\u001b[1;33m\u001b[0m\u001b[1;33m\u001b[0m\u001b[0m\n",
      "\u001b[1;31mFileNotFoundError\u001b[0m: [WinError 3] The system cannot find the path specified: 'git/'"
     ]
    }
   ],
   "source": [
    "import os\n",
    "dirPath = 'git/'\n",
    "for f_name in os.listdir(dirPath):\n",
    "    if f_name.endswith('.ipynb'):\n",
    "        print(f_name)"
   ]
  },
  {
   "cell_type": "code",
   "execution_count": 18,
   "metadata": {},
   "outputs": [
    {
     "ename": "FileNotFoundError",
     "evalue": "[WinError 3] The system cannot find the path specified: 'git/'",
     "output_type": "error",
     "traceback": [
      "\u001b[1;31m---------------------------------------------------------------------------\u001b[0m",
      "\u001b[1;31mFileNotFoundError\u001b[0m                         Traceback (most recent call last)",
      "\u001b[1;32m<ipython-input-18-71ce4e30bd85>\u001b[0m in \u001b[0;36m<module>\u001b[1;34m\u001b[0m\n\u001b[0;32m      1\u001b[0m \u001b[1;32mimport\u001b[0m \u001b[0mos\u001b[0m\u001b[1;33m\u001b[0m\u001b[1;33m\u001b[0m\u001b[0m\n\u001b[0;32m      2\u001b[0m \u001b[0mdirPath\u001b[0m \u001b[1;33m=\u001b[0m \u001b[1;34m'git/'\u001b[0m\u001b[1;33m\u001b[0m\u001b[1;33m\u001b[0m\u001b[0m\n\u001b[1;32m----> 3\u001b[1;33m \u001b[1;32mfor\u001b[0m \u001b[0mf_name\u001b[0m \u001b[1;32min\u001b[0m \u001b[0mos\u001b[0m\u001b[1;33m.\u001b[0m\u001b[0mlistdir\u001b[0m\u001b[1;33m(\u001b[0m\u001b[0mdirPath\u001b[0m\u001b[1;33m)\u001b[0m\u001b[1;33m:\u001b[0m\u001b[1;33m\u001b[0m\u001b[1;33m\u001b[0m\u001b[0m\n\u001b[0m\u001b[0;32m      4\u001b[0m     \u001b[1;32mif\u001b[0m \u001b[0mf_name\u001b[0m\u001b[1;33m.\u001b[0m\u001b[0mstartswith\u001b[0m\u001b[1;33m(\u001b[0m\u001b[1;34m'0'\u001b[0m\u001b[1;33m)\u001b[0m\u001b[1;33m:\u001b[0m\u001b[1;33m\u001b[0m\u001b[1;33m\u001b[0m\u001b[0m\n\u001b[0;32m      5\u001b[0m         \u001b[0mprint\u001b[0m\u001b[1;33m(\u001b[0m\u001b[0mf_name\u001b[0m\u001b[1;33m)\u001b[0m\u001b[1;33m\u001b[0m\u001b[1;33m\u001b[0m\u001b[0m\n",
      "\u001b[1;31mFileNotFoundError\u001b[0m: [WinError 3] The system cannot find the path specified: 'git/'"
     ]
    }
   ],
   "source": [
    "import os\n",
    "dirPath = 'git/'\n",
    "for f_name in os.listdir(dirPath):\n",
    "    if f_name.startswith('0'):\n",
    "        print(f_name)"
   ]
  },
  {
   "cell_type": "markdown",
   "metadata": {},
   "source": [
    "# Deleting Files And Directories"
   ]
  },
  {
   "cell_type": "code",
   "execution_count": 20,
   "metadata": {},
   "outputs": [],
   "source": [
    "import os\n",
    "data_file = 'filetest1.txt'\n",
    "os.remove(data_file)"
   ]
  },
  {
   "cell_type": "code",
   "execution_count": 21,
   "metadata": {},
   "outputs": [],
   "source": [
    "data_dir = 'TestFolder'\n",
    "os.rmdir(data_dir)"
   ]
  },
  {
   "cell_type": "code",
   "execution_count": 22,
   "metadata": {},
   "outputs": [
    {
     "name": "stdout",
     "output_type": "stream",
     "text": [
      " Volume in drive C has no label.\n",
      " Volume Serial Number is 70E6-A2BE\n",
      "\n",
      " Directory of C:\\Users\\239\n",
      "\n",
      "11-07-2019  15:30    <DIR>          .\n",
      "11-07-2019  15:30    <DIR>          ..\n",
      "06-05-2019  09:40    <DIR>          .anaconda\n",
      "25-06-2019  15:35             2,460 .bash_history\n",
      "09-07-2019  09:24    <DIR>          .conda\n",
      "09-07-2019  09:24                60 .condarc\n",
      "27-05-2019  07:23    <DIR>          .eclipse\n",
      "21-05-2019  11:43                61 .gitconfig\n",
      "29-06-2019  10:33    <DIR>          .idlerc\n",
      "11-07-2019  09:11    <DIR>          .ipynb_checkpoints\n",
      "06-05-2019  09:45    <DIR>          .ipython\n",
      "08-05-2019  14:16    <DIR>          .jupyter\n",
      "08-05-2019  11:27    <DIR>          .matplotlib\n",
      "08-05-2019  10:27                35 .python_history\n",
      "08-05-2019  11:37    <DIR>          .spyder-py3\n",
      "11-07-2019  15:04    <DIR>          2019\n",
      "22-04-2019  16:19    <DIR>          Anaconda3\n",
      "09-07-2019  17:09             2,461 Assignment day-8.ipynb\n",
      "10-07-2019  15:00           180,762 Assignment day-9.ipynb\n",
      "19-03-2019  11:02    <DIR>          Contacts\n",
      "06-07-2019  16:37    <DIR>          Desktop\n",
      "15-05-2019  13:51    <DIR>          Documents\n",
      "10-07-2019  16:40    <DIR>          Downloads\n",
      "19-03-2019  11:02    <DIR>          Favorites\n",
      "11-07-2019  10:20               186 filetest2.txt\n",
      "11-07-2019  10:29                16 filetest3.txt\n",
      "21-06-2019  17:23    <DIR>          hc files\n",
      "19-03-2019  11:02    <DIR>          Links\n",
      "19-03-2019  11:02    <DIR>          Music\n",
      "19-03-2019  11:02    <DIR>          Pictures\n",
      "11-07-2019  15:30            40,238 python day-10.ipynb\n",
      "09-07-2019  10:33             6,729 python day-5.ipynb\n",
      "06-07-2019  12:56             9,229 python day-6.ipynb\n",
      "08-07-2019  16:55            14,085 python day-7.ipynb\n",
      "10-07-2019  09:17            14,111 python day-8.ipynb\n",
      "11-07-2019  09:20            20,535 python day-9.ipynb\n",
      "15-05-2019  12:57    <DIR>          Python Scripts\n",
      "19-03-2019  11:02    <DIR>          Saved Games\n",
      "26-03-2019  10:57    <DIR>          Searches\n",
      "11-07-2019  14:54    <DIR>          singledirectory\n",
      "19-03-2019  11:02    <DIR>          Videos\n",
      "              14 File(s)        290,968 bytes\n",
      "              27 Dir(s)  54,964,936,704 bytes free\n"
     ]
    }
   ],
   "source": [
    "ls"
   ]
  },
  {
   "cell_type": "code",
   "execution_count": 23,
   "metadata": {},
   "outputs": [],
   "source": [
    "import shutil\n",
    "data_dir= '2019'\n",
    "shutil.rmtree(data_dir)"
   ]
  },
  {
   "cell_type": "code",
   "execution_count": 24,
   "metadata": {},
   "outputs": [
    {
     "name": "stdout",
     "output_type": "stream",
     "text": [
      " Volume in drive C has no label.\n",
      " Volume Serial Number is 70E6-A2BE\n",
      "\n",
      " Directory of C:\\Users\\239\n",
      "\n",
      "11-07-2019  15:36    <DIR>          .\n",
      "11-07-2019  15:36    <DIR>          ..\n",
      "06-05-2019  09:40    <DIR>          .anaconda\n",
      "25-06-2019  15:35             2,460 .bash_history\n",
      "09-07-2019  09:24    <DIR>          .conda\n",
      "09-07-2019  09:24                60 .condarc\n",
      "27-05-2019  07:23    <DIR>          .eclipse\n",
      "21-05-2019  11:43                61 .gitconfig\n",
      "29-06-2019  10:33    <DIR>          .idlerc\n",
      "11-07-2019  09:11    <DIR>          .ipynb_checkpoints\n",
      "06-05-2019  09:45    <DIR>          .ipython\n",
      "08-05-2019  14:16    <DIR>          .jupyter\n",
      "08-05-2019  11:27    <DIR>          .matplotlib\n",
      "08-05-2019  10:27                35 .python_history\n",
      "08-05-2019  11:37    <DIR>          .spyder-py3\n",
      "22-04-2019  16:19    <DIR>          Anaconda3\n",
      "09-07-2019  17:09             2,461 Assignment day-8.ipynb\n",
      "10-07-2019  15:00           180,762 Assignment day-9.ipynb\n",
      "19-03-2019  11:02    <DIR>          Contacts\n",
      "06-07-2019  16:37    <DIR>          Desktop\n",
      "15-05-2019  13:51    <DIR>          Documents\n",
      "10-07-2019  16:40    <DIR>          Downloads\n",
      "19-03-2019  11:02    <DIR>          Favorites\n",
      "11-07-2019  10:20               186 filetest2.txt\n",
      "11-07-2019  10:29                16 filetest3.txt\n",
      "21-06-2019  17:23    <DIR>          hc files\n",
      "19-03-2019  11:02    <DIR>          Links\n",
      "19-03-2019  11:02    <DIR>          Music\n",
      "19-03-2019  11:02    <DIR>          Pictures\n",
      "11-07-2019  15:32            43,029 python day-10.ipynb\n",
      "09-07-2019  10:33             6,729 python day-5.ipynb\n",
      "06-07-2019  12:56             9,229 python day-6.ipynb\n",
      "08-07-2019  16:55            14,085 python day-7.ipynb\n",
      "10-07-2019  09:17            14,111 python day-8.ipynb\n",
      "11-07-2019  09:20            20,535 python day-9.ipynb\n",
      "15-05-2019  12:57    <DIR>          Python Scripts\n",
      "19-03-2019  11:02    <DIR>          Saved Games\n",
      "26-03-2019  10:57    <DIR>          Searches\n",
      "11-07-2019  14:54    <DIR>          singledirectory\n",
      "19-03-2019  11:02    <DIR>          Videos\n",
      "              14 File(s)        293,759 bytes\n",
      "              26 Dir(s)  54,962,679,808 bytes free\n"
     ]
    }
   ],
   "source": [
    "ls"
   ]
  },
  {
   "cell_type": "markdown",
   "metadata": {},
   "source": [
    "# Regular Expressions\n",
    "- used of specific pattern matching\n",
    "- symbol nitations of pattern\n"
   ]
  },
  {
   "cell_type": "code",
   "execution_count": null,
   "metadata": {},
   "outputs": [],
   "source": []
  },
  {
   "cell_type": "code",
   "execution_count": null,
   "metadata": {},
   "outputs": [],
   "source": []
  },
  {
   "cell_type": "code",
   "execution_count": null,
   "metadata": {},
   "outputs": [],
   "source": []
  },
  {
   "cell_type": "code",
   "execution_count": null,
   "metadata": {},
   "outputs": [],
   "source": []
  },
  {
   "cell_type": "code",
   "execution_count": null,
   "metadata": {},
   "outputs": [],
   "source": []
  },
  {
   "cell_type": "code",
   "execution_count": null,
   "metadata": {},
   "outputs": [],
   "source": []
  },
  {
   "cell_type": "code",
   "execution_count": null,
   "metadata": {},
   "outputs": [],
   "source": []
  },
  {
   "cell_type": "code",
   "execution_count": null,
   "metadata": {},
   "outputs": [],
   "source": []
  },
  {
   "cell_type": "code",
   "execution_count": null,
   "metadata": {},
   "outputs": [],
   "source": []
  },
  {
   "cell_type": "code",
   "execution_count": null,
   "metadata": {},
   "outputs": [],
   "source": []
  },
  {
   "cell_type": "code",
   "execution_count": null,
   "metadata": {},
   "outputs": [],
   "source": []
  }
 ],
 "metadata": {
  "kernelspec": {
   "display_name": "Python 3",
   "language": "python",
   "name": "python3"
  },
  "language_info": {
   "codemirror_mode": {
    "name": "ipython",
    "version": 3
   },
   "file_extension": ".py",
   "mimetype": "text/x-python",
   "name": "python",
   "nbconvert_exporter": "python",
   "pygments_lexer": "ipython3",
   "version": "3.7.3"
  }
 },
 "nbformat": 4,
 "nbformat_minor": 2
}
