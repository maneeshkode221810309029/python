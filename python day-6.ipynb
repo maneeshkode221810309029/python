{
 "cells": [
  {
   "cell_type": "code",
   "execution_count": 2,
   "metadata": {},
   "outputs": [
    {
     "name": "stdout",
     "output_type": "stream",
     "text": [
      "enter 1 number  12\n",
      "enter 2 number  10\n",
      "enter 3 number  16\n",
      "16 is large num\n"
     ]
    }
   ],
   "source": [
    "# Finding the large number among three\n",
    "\n",
    "a1=int(input(\"enter 1 number  \"))\n",
    "a2=int(input(\"enter 2 number  \"))\n",
    "a3=int(input(\"enter 3 number  \"))\n",
    "if a1>a2 and a1>a3:\n",
    " print(a1,\"is large num\")\n",
    "elif a2>a1 and a2>a3:\n",
    "  print(a2,\"is large num\")\n",
    "else:\n",
    "  print(a3,\"is large num\")"
   ]
  },
  {
   "cell_type": "code",
   "execution_count": 10,
   "metadata": {},
   "outputs": [
    {
     "name": "stdout",
     "output_type": "stream",
     "text": [
      "enter the year2020\n",
      "2020 is a leap year\n"
     ]
    }
   ],
   "source": [
    "# check if it is leap year or not\n",
    "\n",
    "n=int(input(\"enter the year\"))\n",
    "if (n % 4 == 0 and n % 100!= 0) or (n % 400 == 0):\n",
    "    print(n,\"is a leap year\")\n",
    "else:\n",
    "    print(n,\"is not a leap year\")"
   ]
  },
  {
   "cell_type": "code",
   "execution_count": 11,
   "metadata": {},
   "outputs": [
    {
     "name": "stdout",
     "output_type": "stream",
     "text": [
      "gitam\n",
      "gitam\n",
      "gitam\n",
      "gitam\n",
      "gitam\n"
     ]
    }
   ],
   "source": [
    "# print gitam for five times\n",
    "\n",
    "print(\"gitam\")\n",
    "print(\"gitam\")\n",
    "print(\"gitam\")\n",
    "print(\"gitam\")\n",
    "print(\"gitam\")"
   ]
  },
  {
   "cell_type": "code",
   "execution_count": 12,
   "metadata": {},
   "outputs": [
    {
     "name": "stdout",
     "output_type": "stream",
     "text": [
      "GITAM\n",
      "GITAM\n",
      "GITAM\n",
      "GITAM\n",
      "GITAM\n"
     ]
    }
   ],
   "source": [
    "# printf gitam for n times using while loop\n",
    "\n",
    "n=0\n",
    "while n<5 :\n",
    "    print(\"GITAM\")\n",
    "    n=n+1"
   ]
  },
  {
   "cell_type": "code",
   "execution_count": 1,
   "metadata": {},
   "outputs": [
    {
     "name": "stdout",
     "output_type": "stream",
     "text": [
      "enter the number n = 10\n",
      "1  2  3  4  5  6  7  8  9  10  "
     ]
    }
   ],
   "source": [
    "# print upto N natural numbers using while loop \n",
    "\n",
    "n=int(input(\"enter the number n = \"))\n",
    "i=1\n",
    "while i<=n :\n",
    "    print(i,end = \"  \")\n",
    "    i=i+1"
   ]
  },
  {
   "cell_type": "code",
   "execution_count": 3,
   "metadata": {},
   "outputs": [
    {
     "name": "stdout",
     "output_type": "stream",
     "text": [
      " enter the value for n =20\n",
      "sum of even numbers is = 110\n"
     ]
    }
   ],
   "source": [
    "# read a number and add only even numbers 1 to n\n",
    "\n",
    "n=int(input(\" enter the value for n =\"))\n",
    "i=1\n",
    "sum=0\n",
    "while i<=n:\n",
    "    if i%2==0 :\n",
    "        sum = sum +i\n",
    "    i=i+1\n",
    "print(\"sum of even numbers is =\",sum)    "
   ]
  },
  {
   "cell_type": "code",
   "execution_count": 2,
   "metadata": {},
   "outputs": [
    {
     "name": "stdout",
     "output_type": "stream",
     "text": [
      " enter the value for n =11\n",
      "sum of even numbers is = 36\n"
     ]
    }
   ],
   "source": [
    "# read a number and add only odd numbers 1 to n\n",
    "\n",
    "n=int(input(\" enter the value for n =\"))\n",
    "i=1\n",
    "sum=0\n",
    "while i<=n:\n",
    "    if i%2!=0 :\n",
    "        sum = sum +i\n",
    "    i=i+1\n",
    "print(\"sum of even numbers is =\",sum)    "
   ]
  },
  {
   "cell_type": "code",
   "execution_count": 9,
   "metadata": {},
   "outputs": [
    {
     "name": "stdout",
     "output_type": "stream",
     "text": [
      "enter the number to be printed = 4321\n",
      "Reverse of entered number is =  1234\n"
     ]
    }
   ],
   "source": [
    "# print the given numbers in reverse order\n",
    "\n",
    "n=int(input(\"enter the number to be printed = \"))    \n",
    "r = 0    \n",
    "while(n > 0):    \n",
    "    rem = n %10    \n",
    "    r = (r *10) + rem\n",
    "    n = n //10    \n",
    "     \n",
    "print(\"Reverse of entered number is = \",r) "
   ]
  },
  {
   "cell_type": "code",
   "execution_count": 12,
   "metadata": {},
   "outputs": [
    {
     "name": "stdout",
     "output_type": "stream",
     "text": [
      "6\n"
     ]
    }
   ],
   "source": [
    "#  add only even numbers which contains both even and odd numbers \n",
    "\n",
    "def addevendigits(n):\n",
    "    sum=0\n",
    "    while n!=0:\n",
    "        r=n%10\n",
    "        if r%2==0:\n",
    "            sum=sum+r\n",
    "        n=n // 10\n",
    "    print(sum)\n",
    "    return\n",
    "addevendigits(1234)"
   ]
  },
  {
   "cell_type": "code",
   "execution_count": 1,
   "metadata": {},
   "outputs": [
    {
     "data": {
      "text/plain": [
       "9"
      ]
     },
     "execution_count": 1,
     "metadata": {},
     "output_type": "execute_result"
    }
   ],
   "source": [
    "# print the largest digit number among given numbers\n",
    "\n",
    "def printlarge(n):\n",
    "    large = 0\n",
    "    while n != 0:\n",
    "        r=n%10\n",
    "        if large < r:\n",
    "            large = r\n",
    "        n = n // 10\n",
    "    return large\n",
    "printlarge(276590)"
   ]
  },
  {
   "cell_type": "code",
   "execution_count": 9,
   "metadata": {},
   "outputs": [
    {
     "data": {
      "text/plain": [
       "123"
      ]
     },
     "execution_count": 9,
     "metadata": {},
     "output_type": "execute_result"
    }
   ],
   "source": [
    "# \n",
    "\n",
    "def reversenumber(n):\n",
    "    t=n\n",
    "    r = 0   \n",
    "    rem =0 \n",
    "    while n != 0:    \n",
    "        rem = n %10    \n",
    "        r = (r *10) + rem\n",
    "        n = n //10    \n",
    "    return r\n",
    "reversenumber(321)"
   ]
  },
  {
   "cell_type": "code",
   "execution_count": 11,
   "metadata": {},
   "outputs": [
    {
     "name": "stdout",
     "output_type": "stream",
     "text": [
      "no\n",
      "yes\n"
     ]
    }
   ],
   "source": [
    "# palindrome \n",
    "\n",
    "def palindrome(n):\n",
    "    r = 0\n",
    "    buffer = n\n",
    "    rem =0 \n",
    "    while n != 0:    \n",
    "        rem = n %10    \n",
    "        r = (r *10) + rem\n",
    "        n = n //10  \n",
    "    if buffer == r:\n",
    "        return \"yes\"\n",
    "    else:\n",
    "        return \"no\"\n",
    "print( palindrome(123) )\n",
    "print( palindrome(121) )"
   ]
  },
  {
   "cell_type": "code",
   "execution_count": 12,
   "metadata": {},
   "outputs": [
    {
     "name": "stdout",
     "output_type": "stream",
     "text": [
      "1 2 3 4 5 6 7 8 9 10 "
     ]
    }
   ],
   "source": [
    "# print 1 to n numbers using for loop\n",
    "\n",
    "def printoneton(n):\n",
    "    for x in range(1,n+1):\n",
    "        print(x,end=\" \")\n",
    "    return\n",
    "printoneton(10)"
   ]
  },
  {
   "cell_type": "code",
   "execution_count": 14,
   "metadata": {},
   "outputs": [
    {
     "name": "stdout",
     "output_type": "stream",
     "text": [
      "7 8 9 10 11 12 13 14 15 16 17 18 19 20 21 22 23 24 25 26 27 28 29 30 31 32 33 34 35 36 37 38 39 40 41 42 43 44 45 "
     ]
    }
   ],
   "source": [
    "# print lb to UB numbers using for loop\n",
    "\n",
    "def printseries(lb,ub):\n",
    "    for x in range(lb,ub+1):\n",
    "        print(x,end=\" \")\n",
    "    return\n",
    "printseries(7,45)"
   ]
  },
  {
   "cell_type": "code",
   "execution_count": 16,
   "metadata": {},
   "outputs": [
    {
     "name": "stdout",
     "output_type": "stream",
     "text": [
      "10 12 14 16 18 20 "
     ]
    }
   ],
   "source": [
    "# program to print alternate numbers\n",
    "\n",
    "def alternate(lb,ub):\n",
    "    for x in range(lb,ub+1,2):\n",
    "        print(x,end=\" \")\n",
    "    return\n",
    "alternate(10,20)"
   ]
  },
  {
   "cell_type": "code",
   "execution_count": 17,
   "metadata": {},
   "outputs": [
    {
     "name": "stdout",
     "output_type": "stream",
     "text": [
      "6 5 4 3 2 1 "
     ]
    }
   ],
   "source": [
    "# print series numbers in reverse order\n",
    "\n",
    "def printseriesinreverse(start,end):\n",
    "    for x in range(end,start-1,-1):\n",
    "        print(x,end=\" \")\n",
    "    return\n",
    "printseriesinreverse(1,6)"
   ]
  },
  {
   "cell_type": "code",
   "execution_count": null,
   "metadata": {},
   "outputs": [],
   "source": [
    "# "
   ]
  }
 ],
 "metadata": {
  "kernelspec": {
   "display_name": "Python 3",
   "language": "python",
   "name": "python3"
  },
  "language_info": {
   "codemirror_mode": {
    "name": "ipython",
    "version": 3
   },
   "file_extension": ".py",
   "mimetype": "text/x-python",
   "name": "python",
   "nbconvert_exporter": "python",
   "pygments_lexer": "ipython3",
   "version": "3.7.3"
  }
 },
 "nbformat": 4,
 "nbformat_minor": 2
}
