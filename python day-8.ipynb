{
 "cells": [
  {
   "cell_type": "markdown",
   "metadata": {},
   "source": [
    "# python data structures\n",
    "\n",
    "## lists\n",
    "\n",
    "   ### list 1 = [1,3,45,67,8]\n",
    "\n",
    "   ### list 2 = [\"gitam\",1,2,5,67,\"hyd\"]\n",
    "   \n",
    "   "
   ]
  },
  {
   "cell_type": "code",
   "execution_count": 2,
   "metadata": {},
   "outputs": [
    {
     "name": "stdout",
     "output_type": "stream",
     "text": [
      "[1, 89, 45, 6, 8]\n",
      "1\n",
      "89\n",
      "8\n",
      "6\n",
      "[89, 45, 6, 8]\n",
      "[89, 45, 6]\n"
     ]
    }
   ],
   "source": [
    "lst = [1,89,45,6,8]\n",
    "print(lst)\n",
    "print(lst[0])\n",
    "print(lst[1])\n",
    "print(lst[-1])\n",
    "print(lst[-2])\n",
    "print(lst[1:])\n",
    "print(lst[1:4])"
   ]
  },
  {
   "cell_type": "code",
   "execution_count": 9,
   "metadata": {},
   "outputs": [
    {
     "name": "stdout",
     "output_type": "stream",
     "text": [
      "['gitam', 'python', 1989, 2002]\n",
      "gitam 1989\n",
      "python 2002\n"
     ]
    }
   ],
   "source": [
    "lst = [\"gitam\",\"python\",1989,2002]\n",
    "print(lst)\n",
    "print(lst[0],lst[2])\n",
    "print(lst[1],lst[3])"
   ]
  },
  {
   "cell_type": "code",
   "execution_count": 19,
   "metadata": {},
   "outputs": [
    {
     "name": "stdout",
     "output_type": "stream",
     "text": [
      "['gitam', 1989, 2002]\n"
     ]
    }
   ],
   "source": [
    "lst = [\"gitam\",\"python\",1989,2002]\n",
    "del lst[1]\n",
    "print(lst)"
   ]
  },
  {
   "cell_type": "code",
   "execution_count": 20,
   "metadata": {},
   "outputs": [
    {
     "data": {
      "text/plain": [
       "['gitam', 1989, 2002]"
      ]
     },
     "execution_count": 20,
     "metadata": {},
     "output_type": "execute_result"
    }
   ],
   "source": [
    "lst"
   ]
  },
  {
   "cell_type": "code",
   "execution_count": 25,
   "metadata": {},
   "outputs": [
    {
     "name": "stdout",
     "output_type": "stream",
     "text": [
      "4\n",
      "[1, 4, 667, 54, 1, 4, 667, 54]\n",
      "4\n",
      "True\n",
      "False\n"
     ]
    }
   ],
   "source": [
    "lst = [1,4,667,54]\n",
    "print(len(lst))\n",
    "print((lst)*2)\n",
    "print(len(lst))\n",
    "print(4 in lst)\n",
    "print(20 in lst)"
   ]
  },
  {
   "cell_type": "code",
   "execution_count": 2,
   "metadata": {},
   "outputs": [
    {
     "name": "stdout",
     "output_type": "stream",
     "text": [
      "4\n",
      "[1, 4, 667, 54, 1, 4, 667, 54]\n",
      "4\n",
      "True\n",
      "False\n"
     ]
    }
   ],
   "source": [
    "lst = [1,4,667,54]\n",
    "print(len(lst))\n",
    "print((lst)*2)\n",
    "print(len(lst))\n",
    "print(4 in lst)\n",
    "print(20 in lst)"
   ]
  },
  {
   "cell_type": "code",
   "execution_count": 6,
   "metadata": {},
   "outputs": [
    {
     "name": "stdout",
     "output_type": "stream",
     "text": [
      "3\n",
      "1\n",
      "3\n",
      "6\n",
      "2\n",
      "2.0\n"
     ]
    }
   ],
   "source": [
    "lst = [1,2,3]\n",
    "print(len(lst))\n",
    "print(min(lst))\n",
    "print(max(lst))\n",
    "print(sum(lst))\n",
    "print(sum(lst)//len(lst))\n",
    "print(sum(lst[1::2])/len(lst[1::2]))"
   ]
  },
  {
   "cell_type": "code",
   "execution_count": 8,
   "metadata": {},
   "outputs": [
    {
     "name": "stdout",
     "output_type": "stream",
     "text": [
      "[6, 4]\n"
     ]
    }
   ],
   "source": [
    "lst = [1,3,4,645,6]\n",
    "print(lst[-1:0:-2])"
   ]
  },
  {
   "cell_type": "code",
   "execution_count": 9,
   "metadata": {},
   "outputs": [
    {
     "name": "stdout",
     "output_type": "stream",
     "text": [
      "[6, 4, 1]\n"
     ]
    }
   ],
   "source": [
    "lst = [1,3,4,645,6]\n",
    "print(lst[-1::-2])"
   ]
  },
  {
   "cell_type": "code",
   "execution_count": 10,
   "metadata": {},
   "outputs": [
    {
     "name": "stdout",
     "output_type": "stream",
     "text": [
      "[3, 2, 9]\n"
     ]
    }
   ],
   "source": [
    "lst = [1,9,8,2,6,3]\n",
    "print(lst[-1::-2])"
   ]
  },
  {
   "cell_type": "code",
   "execution_count": 11,
   "metadata": {},
   "outputs": [
    {
     "name": "stdout",
     "output_type": "stream",
     "text": [
      "[3, 2, 9]\n"
     ]
    }
   ],
   "source": [
    "lst = [1,9,8,2,6,3]\n",
    "print(lst[-1:0:-2])"
   ]
  },
  {
   "cell_type": "code",
   "execution_count": 16,
   "metadata": {},
   "outputs": [
    {
     "data": {
      "text/plain": [
       "[45, 23, 24, 24, 18, 9, 6, 3, 1]"
      ]
     },
     "execution_count": 16,
     "metadata": {},
     "output_type": "execute_result"
    }
   ],
   "source": [
    "# different operations\n",
    "\n",
    "lst1 = [1,6,2,9,18,3,24]\n",
    "lst1\n",
    "lst1.append(24)\n",
    "lst1\n",
    "lst1.insert(2,56)\n",
    "lst1\n",
    "lst1.count(18)\n",
    "lst1\n",
    "lst1.index(56)\n",
    "lst1\n",
    "lst1.sort()\n",
    "lst1\n",
    "lst1.pop()\n",
    "lst1\n",
    "lst1.pop(1)\n",
    "lst2 = [123,23,45]\n",
    "lst1.extend(lst2)\n",
    "lst1\n",
    "lst1.reverse()\n",
    "lst1\n",
    "lst1.remove(123)\n",
    "lst1"
   ]
  },
  {
   "cell_type": "code",
   "execution_count": 17,
   "metadata": {},
   "outputs": [
    {
     "data": {
      "text/plain": [
       "18"
      ]
     },
     "execution_count": 17,
     "metadata": {},
     "output_type": "execute_result"
    }
   ],
   "source": [
    "# find second large\n",
    "\n",
    "def secondlarge(lst):\n",
    "    lst.sort()\n",
    "    return lst[-2]\n",
    "lst=[1,19,6,2,8,18,3]\n",
    "secondlarge(lst)"
   ]
  },
  {
   "cell_type": "code",
   "execution_count": 19,
   "metadata": {},
   "outputs": [
    {
     "data": {
      "text/plain": [
       "6"
      ]
     },
     "execution_count": 19,
     "metadata": {},
     "output_type": "execute_result"
    }
   ],
   "source": [
    "# find second large using genericlogic\n",
    "\n",
    "def secondlarge(lst):\n",
    "    lst.sort()\n",
    "    return lst[-2]\n",
    "def genericlogic(lst,n):\n",
    "    lst.sort()\n",
    "    return lst[-n]\n",
    "lst=[1,19,6,2,8,18,3]\n",
    "genericlogic(lst,4)"
   ]
  },
  {
   "cell_type": "code",
   "execution_count": 20,
   "metadata": {},
   "outputs": [
    {
     "data": {
      "text/plain": [
       "6"
      ]
     },
     "execution_count": 20,
     "metadata": {},
     "output_type": "execute_result"
    }
   ],
   "source": [
    "# finding the second largest number\n",
    "\n",
    "def secondlarge(lst):\n",
    "    lst.sort()\n",
    "    return lst[1]\n",
    "def genericleast(lst,n):\n",
    "    lst.sort()\n",
    "    return lst[n-1]\n",
    "lst=[1,19,6,2,8,18,3]\n",
    "genericleast(lst,4)"
   ]
  },
  {
   "cell_type": "code",
   "execution_count": 26,
   "metadata": {},
   "outputs": [
    {
     "data": {
      "text/plain": [
       "4"
      ]
     },
     "execution_count": 26,
     "metadata": {},
     "output_type": "execute_result"
    }
   ],
   "source": [
    "# function to search data in a list using linear search\n",
    "# if not found return -1\n",
    "\n",
    "def linearsearch(lst,targetitem):\n",
    "    for x in range(len(lst)):\n",
    "        if lst[x] == targetitem:\n",
    "            return x\n",
    "    return -1\n",
    "lst = [1,19,6,2,8,18,3]\n",
    "linearsearch(lst,8)"
   ]
  },
  {
   "cell_type": "code",
   "execution_count": 31,
   "metadata": {},
   "outputs": [
    {
     "name": "stdout",
     "output_type": "stream",
     "text": [
      "1  4  8  "
     ]
    }
   ],
   "source": [
    "# function to remove duplicate numbers\n",
    "\n",
    "def linearsearch(lst,targetitem):\n",
    "    for x in range(len(lst)):\n",
    "        if lst[x] == targetitem:\n",
    "            print(x,end=\"  \")\n",
    "    return\n",
    "lst = [1,5,9,6,5,15,1,2,5]\n",
    "linearsearch(lst,5)"
   ]
  },
  {
   "cell_type": "code",
   "execution_count": 33,
   "metadata": {},
   "outputs": [
    {
     "name": "stdout",
     "output_type": "stream",
     "text": [
      "!  !    !  !  !  !  !    !  !  !  !  !  !  !  !  !    "
     ]
    }
   ],
   "source": [
    "# function to print ! symbol insted of numbers\n",
    "\n",
    "def linearsearch3(lst,targetitem):\n",
    "    for x in range(len(lst)):\n",
    "        if lst[x] == targetitem:\n",
    "            j = 0\n",
    "            while j != x+1:\n",
    "                print(\"!\",end=\"  \")\n",
    "                j= j+1\n",
    "            print(end=\"  \")\n",
    "    return\n",
    "lst = [1,5,9,6,5,15,1,2,5]\n",
    "linearsearch3(lst,5) "
   ]
  },
  {
   "cell_type": "code",
   "execution_count": 34,
   "metadata": {},
   "outputs": [
    {
     "data": {
      "text/plain": [
       "60"
      ]
     },
     "execution_count": 34,
     "metadata": {},
     "output_type": "execute_result"
    }
   ],
   "source": [
    "# sum of numbers multiple by 3 and 5\n",
    "\n",
    "def linearsearch(lst):\n",
    "    sum = 0\n",
    "    for x in range(len(lst)):\n",
    "        if lst[x] % 3 == 0 and lst[x] % 5 == 0:\n",
    "            sum += lst[x]\n",
    "    return sum\n",
    "lst = [12,2,45,9,18,15,36]\n",
    "linearsearch(lst)"
   ]
  },
  {
   "cell_type": "code",
   "execution_count": 35,
   "metadata": {},
   "outputs": [
    {
     "name": "stdout",
     "output_type": "stream",
     "text": [
      "1  3  8  15  5  "
     ]
    }
   ],
   "source": [
    "# linear fibanacci\n",
    "\n",
    "def linearsearch5(lst):\n",
    "    for x in range(len(lst)):\n",
    "        if x  == 0 or x == len(lst) - 1:\n",
    "            print(lst[x],end=\"  \")\n",
    "        else:\n",
    "             print(lst[x-1]*lst[x+1],end=\"  \")\n",
    "    return\n",
    "lst = [1,2,3,4,5]\n",
    "linearsearch5(lst)"
   ]
  },
  {
   "cell_type": "code",
   "execution_count": 11,
   "metadata": {},
   "outputs": [
    {
     "name": "stdout",
     "output_type": "stream",
     "text": [
      "1 9 19 22 "
     ]
    }
   ],
   "source": [
    "# function \n",
    "# print 1st and last numbers as it is\n",
    "\n",
    "def linearSearch6(li):\n",
    "    #Implement the logic\n",
    "    for x in range(len(li)):\n",
    "        if x == 0 or x==len(li) -1:\n",
    "            print(li[x],end=\" \")\n",
    "        elif li[x-1]%2==0 and li[x+1]%2==0:\n",
    "            print(li[x],end=\" \")\n",
    "\n",
    "    return\n",
    "li=[1,6,9,4,16,19,22]\n",
    "linearSearch6(li) #1 9 19 22"
   ]
  },
  {
   "cell_type": "code",
   "execution_count": 12,
   "metadata": {},
   "outputs": [
    {
     "data": {
      "text/plain": [
       "[1, 4, 5, 6, 9]"
      ]
     },
     "execution_count": 12,
     "metadata": {},
     "output_type": "execute_result"
    }
   ],
   "source": [
    "# number list conversion\n",
    "\n",
    "def numberlistconversion(n):\n",
    "    li=[]\n",
    "    while n!=0:\n",
    "        r=n%10\n",
    "        li.append(r)\n",
    "        n=n//10\n",
    "    li.reverse()\n",
    "    return li\n",
    "numberlistconversion(14569)#[1,4,5,6,9]"
   ]
  },
  {
   "cell_type": "code",
   "execution_count": 13,
   "metadata": {},
   "outputs": [
    {
     "data": {
      "text/plain": [
       "2"
      ]
     },
     "execution_count": 13,
     "metadata": {},
     "output_type": "execute_result"
    }
   ],
   "source": [
    "# function to count the occurances of a character in a string \n",
    "\n",
    "def countcharoccurances(s,c):\n",
    "    cnt = 0\n",
    "    for ch in s:\n",
    "        if ch == c:\n",
    "            cnt += 1\n",
    "    return cnt\n",
    "countcharoccurances(\"Python Programming\",'m')"
   ]
  },
  {
   "cell_type": "code",
   "execution_count": 14,
   "metadata": {},
   "outputs": [
    {
     "data": {
      "text/plain": [
       "2"
      ]
     },
     "execution_count": 14,
     "metadata": {},
     "output_type": "execute_result"
    }
   ],
   "source": [
    "# function to count the occurances of a character in a string using another def \n",
    "\n",
    "def countcharoccurances(s,c):\n",
    "    cnt = 0\n",
    "    for ch in s:\n",
    "        if ch == c:\n",
    "            cnt += 1\n",
    "    return cnt\n",
    "def countcharoccurances(s,c):\n",
    "    return s.count(c)\n",
    "countcharoccurances(\"Python Programming\",'m')"
   ]
  },
  {
   "cell_type": "code",
   "execution_count": 19,
   "metadata": {},
   "outputs": [
    {
     "data": {
      "text/plain": [
       "[1, 2, 3, 4, 5, 6]"
      ]
     },
     "execution_count": 19,
     "metadata": {},
     "output_type": "execute_result"
    }
   ],
   "source": [
    "# function to convert the string to list\n",
    "\n",
    "def stringtolistconversion(s):\n",
    "    lst = s.split()\n",
    "    numberslist = []\n",
    "    for i in lst:\n",
    "        numberslist.append(int(i))\n",
    "    return numberslist\n",
    "s = \"1 2 3 4 5 6\"\n",
    "stringtolistconversion(s)"
   ]
  },
  {
   "cell_type": "code",
   "execution_count": 20,
   "metadata": {},
   "outputs": [
    {
     "data": {
      "text/plain": [
       "[1, 3, 10, 23, 29, 34, 346]"
      ]
     },
     "execution_count": 20,
     "metadata": {},
     "output_type": "execute_result"
    }
   ],
   "source": [
    "# function to perform bubble sort\n",
    "\n",
    "def bubblesort(lst):\n",
    "    for i in range(len(lst)-1):\n",
    "        for j in range(len(lst)-1):\n",
    "            if lst[j] > lst[j+1]:\n",
    "                lst[j],lst[j+1] = lst[j+1],lst[j]\n",
    "    return lst\n",
    "lst = [34,1,346,23,3,10,29]\n",
    "bubblesort(lst)"
   ]
  },
  {
   "cell_type": "code",
   "execution_count": null,
   "metadata": {},
   "outputs": [],
   "source": [
    "# function to perform "
   ]
  },
  {
   "cell_type": "code",
   "execution_count": null,
   "metadata": {},
   "outputs": [],
   "source": []
  },
  {
   "cell_type": "code",
   "execution_count": null,
   "metadata": {},
   "outputs": [],
   "source": []
  },
  {
   "cell_type": "code",
   "execution_count": null,
   "metadata": {},
   "outputs": [],
   "source": []
  }
 ],
 "metadata": {
  "kernelspec": {
   "display_name": "Python 3",
   "language": "python",
   "name": "python3"
  },
  "language_info": {
   "codemirror_mode": {
    "name": "ipython",
    "version": 3
   },
   "file_extension": ".py",
   "mimetype": "text/x-python",
   "name": "python",
   "nbconvert_exporter": "python",
   "pygments_lexer": "ipython3",
   "version": "3.7.3"
  }
 },
 "nbformat": 4,
 "nbformat_minor": 2
}
