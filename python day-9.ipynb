{
 "cells": [
  {
   "cell_type": "code",
   "execution_count": 1,
   "metadata": {},
   "outputs": [
    {
     "name": "stdout",
     "output_type": "stream",
     "text": [
      "{'name': 'gitam ', 'emailid': 'gitam@gmail.com'}\n"
     ]
    }
   ],
   "source": [
    "# printing dictionaries\n",
    "\n",
    "d1 = { \"name\": \"gitam \",\"emailid\":\"gitam@gmail.com\"}\n",
    "print(d1)"
   ]
  },
  {
   "cell_type": "code",
   "execution_count": 2,
   "metadata": {},
   "outputs": [
    {
     "data": {
      "text/plain": [
       "'gitam '"
      ]
     },
     "execution_count": 2,
     "metadata": {},
     "output_type": "execute_result"
    }
   ],
   "source": [
    "# \n",
    "\n",
    "d1[\"name\"]"
   ]
  },
  {
   "cell_type": "code",
   "execution_count": 3,
   "metadata": {},
   "outputs": [],
   "source": [
    "#\n",
    "\n",
    "d1['emailid']= 'gitam-python@gmail.com'"
   ]
  },
  {
   "cell_type": "code",
   "execution_count": 4,
   "metadata": {},
   "outputs": [
    {
     "data": {
      "text/plain": [
       "'gitam-python@gmail.com'"
      ]
     },
     "execution_count": 4,
     "metadata": {},
     "output_type": "execute_result"
    }
   ],
   "source": [
    "#\n",
    "\n",
    "d1['emailid']"
   ]
  },
  {
   "cell_type": "code",
   "execution_count": 7,
   "metadata": {},
   "outputs": [
    {
     "ename": "KeyError",
     "evalue": "'emailid'",
     "output_type": "error",
     "traceback": [
      "\u001b[1;31m---------------------------------------------------------------------------\u001b[0m",
      "\u001b[1;31mKeyError\u001b[0m                                  Traceback (most recent call last)",
      "\u001b[1;32m<ipython-input-7-e946a8b15ba1>\u001b[0m in \u001b[0;36m<module>\u001b[1;34m\u001b[0m\n\u001b[0;32m      2\u001b[0m \u001b[1;33m\u001b[0m\u001b[0m\n\u001b[0;32m      3\u001b[0m \u001b[0md1\u001b[0m \u001b[1;31m#del d1 will delete entire dictionary data\u001b[0m\u001b[1;33m\u001b[0m\u001b[1;33m\u001b[0m\u001b[0m\n\u001b[1;32m----> 4\u001b[1;33m \u001b[1;32mdel\u001b[0m \u001b[0md1\u001b[0m\u001b[1;33m[\u001b[0m\u001b[1;34m'emailid'\u001b[0m\u001b[1;33m]\u001b[0m\u001b[1;33m\u001b[0m\u001b[1;33m\u001b[0m\u001b[0m\n\u001b[0m",
      "\u001b[1;31mKeyError\u001b[0m: 'emailid'"
     ]
    }
   ],
   "source": [
    "# deleting data\n",
    "\n",
    "d1 #del d1 will delete entire dictionary data\n",
    "del d1['emailid']\n"
   ]
  },
  {
   "cell_type": "code",
   "execution_count": 9,
   "metadata": {},
   "outputs": [
    {
     "data": {
      "text/plain": [
       "{'name': 'gitam '}"
      ]
     },
     "execution_count": 9,
     "metadata": {},
     "output_type": "execute_result"
    }
   ],
   "source": [
    "#\n",
    "\n",
    "d1"
   ]
  },
  {
   "cell_type": "code",
   "execution_count": 11,
   "metadata": {},
   "outputs": [
    {
     "data": {
      "text/plain": [
       "dict_keys(['name'])"
      ]
     },
     "execution_count": 11,
     "metadata": {},
     "output_type": "execute_result"
    }
   ],
   "source": [
    "# returns\n",
    "\n",
    "d1.keys() # return the list of keys"
   ]
  },
  {
   "cell_type": "code",
   "execution_count": 12,
   "metadata": {},
   "outputs": [
    {
     "data": {
      "text/plain": [
       "dict_values(['gitam '])"
      ]
     },
     "execution_count": 12,
     "metadata": {},
     "output_type": "execute_result"
    }
   ],
   "source": [
    "# returns\n",
    "\n",
    "d1.values()  # return the list of values"
   ]
  },
  {
   "cell_type": "code",
   "execution_count": 13,
   "metadata": {},
   "outputs": [
    {
     "data": {
      "text/plain": [
       "dict_items([('name', 'gitam ')])"
      ]
     },
     "execution_count": 13,
     "metadata": {},
     "output_type": "execute_result"
    }
   ],
   "source": [
    "# returns\n",
    "\n",
    "d1.items()  # return the list of tuples and keys and values"
   ]
  },
  {
   "cell_type": "code",
   "execution_count": 15,
   "metadata": {},
   "outputs": [
    {
     "data": {
      "text/plain": [
       "(1, 2, 3, 4, 5)"
      ]
     },
     "execution_count": 15,
     "metadata": {},
     "output_type": "execute_result"
    }
   ],
   "source": [
    "# TUPLES\n",
    "\n",
    "t1 = (1,2,3,4,5)\n",
    "t1"
   ]
  },
  {
   "cell_type": "markdown",
   "metadata": {},
   "source": [
    "### Contact Application\n",
    "- Add contact\n",
    "- Search the contact\n",
    "- List all contacts\n",
    "    - name1 : phone1\n",
    "    - name2 : phone2\n",
    "- Modify the contact\n",
    "- Remove the contact\n",
    "- Import the contact"
   ]
  },
  {
   "cell_type": "code",
   "execution_count": 17,
   "metadata": {},
   "outputs": [
    {
     "name": "stdout",
     "output_type": "stream",
     "text": [
      "Contact is details are added\n",
      "Contact is details are added\n",
      "Contact is details are added\n",
      "Contact details are already exists\n"
     ]
    }
   ],
   "source": [
    "# Add contact application\n",
    "\n",
    "contacts={}         # Creating a dict object\n",
    "def addContacts(name,phone):\n",
    "    if name not in contacts:   # Condition to check phone ex\n",
    "        contacts[name] = phone\n",
    "        print(\"Contact is details are added\")\n",
    "    else:\n",
    "        print(\"Contact details are already exists\")\n",
    "    return\n",
    "addContacts('Maneesh','9876543214')\n",
    "addContacts('kef','9515682222')\n",
    "addContacts('Monish','7036340004')\n",
    "addContacts('Maneesh','9876543214')"
   ]
  },
  {
   "cell_type": "code",
   "execution_count": 23,
   "metadata": {},
   "outputs": [
    {
     "name": "stdout",
     "output_type": "stream",
     "text": [
      "Maneesh  :  9876543214\n",
      "kef  :  9515682222\n",
      "hog does not exist\n",
      "Monish  :  7036340004\n",
      "siva does not exist\n"
     ]
    }
   ],
   "source": [
    "# search for contacts\n",
    "\n",
    "def searchcontact(name):\n",
    "    if name in contacts:\n",
    "        print(name, \" : \",contacts[name])\n",
    "    else :\n",
    "        print(\"%s does not exist\" % name)\n",
    "    return\n",
    "searchcontact('Maneesh')\n",
    "searchcontact('kef')\n",
    "searchcontact('hog')\n",
    "searchcontacts('Monish')\n",
    "searchcontacts('siva')"
   ]
  },
  {
   "cell_type": "code",
   "execution_count": 24,
   "metadata": {},
   "outputs": [
    {
     "name": "stdout",
     "output_type": "stream",
     "text": [
      "2 contacts added successfully\n"
     ]
    }
   ],
   "source": [
    "# Import contacts and merge\n",
    "\n",
    "def importcontact(newcontacts):\n",
    "    contacts.update(newcontacts)\n",
    "    print(len(newcontacts.keys()),\"contacts added successfully\")\n",
    "    return\n",
    "newcontacts = {'hog':9644738362,'siva':7643656576}\n",
    "importcontact(newcontacts)"
   ]
  },
  {
   "cell_type": "code",
   "execution_count": 25,
   "metadata": {},
   "outputs": [
    {
     "data": {
      "text/plain": [
       "{'Maneesh': '9876543214',\n",
       " 'kef': '9515682222',\n",
       " 'Monish': '7036340004',\n",
       " 'hog': 9644738362,\n",
       " 'siva': 7643656576}"
      ]
     },
     "execution_count": 25,
     "metadata": {},
     "output_type": "execute_result"
    }
   ],
   "source": [
    "contacts"
   ]
  },
  {
   "cell_type": "code",
   "execution_count": 26,
   "metadata": {},
   "outputs": [
    {
     "name": "stdout",
     "output_type": "stream",
     "text": [
      "hog deleted successfully\n",
      "bal doesn't exist \n"
     ]
    }
   ],
   "source": [
    "# Delete a contact\n",
    "\n",
    "def deletecontact(name):\n",
    "    if name in contacts:\n",
    "        del contacts[name]\n",
    "        print(name,\"deleted successfully\")\n",
    "    else :\n",
    "        print(name,\"doesn't exist \")\n",
    "    return\n",
    "deletecontact('hog')\n",
    "deletecontact('bal')"
   ]
  },
  {
   "cell_type": "code",
   "execution_count": 31,
   "metadata": {},
   "outputs": [
    {
     "name": "stdout",
     "output_type": "stream",
     "text": [
      "kef updated successfully\n",
      "siva updated successfully\n",
      "raghava doesn't exist \n"
     ]
    }
   ],
   "source": [
    "# Update contact number details\n",
    "\n",
    "def updatecontact(name,phone):\n",
    "    if name in contacts:\n",
    "        contacts[name] = phone\n",
    "        print(name,\"updated successfully\")\n",
    "    else :\n",
    "        print(name,\"doesn't exist \")\n",
    "    return\n",
    "updatecontact('kef',9317813446)\n",
    "updatecontact('siva',9317833446)\n",
    "updatecontact('raghava',9317833446)"
   ]
  },
  {
   "cell_type": "markdown",
   "metadata": {},
   "source": [
    "# string formatting\n",
    " \n",
    " ### classic version\n",
    " ### current version"
   ]
  },
  {
   "cell_type": "code",
   "execution_count": 35,
   "metadata": {},
   "outputs": [
    {
     "name": "stdout",
     "output_type": "stream",
     "text": [
      "python programming\n"
     ]
    }
   ],
   "source": [
    "# classical version \n",
    "\n",
    "li = [\"python\",\"programming\"]\n",
    "print(\"%s %s\" %(li[0],li[1]) )"
   ]
  },
  {
   "cell_type": "code",
   "execution_count": 37,
   "metadata": {},
   "outputs": [
    {
     "name": "stdout",
     "output_type": "stream",
     "text": [
      "python programming\n"
     ]
    }
   ],
   "source": [
    "print(\"{0} {1}\".format(li[0],li[1]))"
   ]
  },
  {
   "cell_type": "code",
   "execution_count": 38,
   "metadata": {},
   "outputs": [
    {
     "name": "stdout",
     "output_type": "stream",
     "text": [
      " 1 2 3 4 \n"
     ]
    }
   ],
   "source": [
    "li = [1,2,3,4]\n",
    "print(\" %d %d %d %d \" %(li[0],li[1],li[2],li[3]) )"
   ]
  },
  {
   "cell_type": "code",
   "execution_count": 39,
   "metadata": {},
   "outputs": [
    {
     "name": "stdout",
     "output_type": "stream",
     "text": [
      "1 2 3 4\n"
     ]
    }
   ],
   "source": [
    "print(\"{0} {1} {2} {3}\".format(li[0],li[1],li[2],li[3]))"
   ]
  },
  {
   "cell_type": "markdown",
   "metadata": {},
   "source": [
    "# string function \n",
    "  \n",
    "  ### upper () - convert string into upper\n",
    "  ### lower () - convert string into lower "
   ]
  },
  {
   "cell_type": "code",
   "execution_count": 42,
   "metadata": {},
   "outputs": [
    {
     "name": "stdout",
     "output_type": "stream",
     "text": [
      "GITAM\n",
      "gitam\n"
     ]
    }
   ],
   "source": [
    "s1 = 'gitam'\n",
    "print(s1.upper())\n",
    "print(s1.lower())"
   ]
  },
  {
   "cell_type": "markdown",
   "metadata": {},
   "source": [
    "# Boolean function "
   ]
  },
  {
   "cell_type": "markdown",
   "metadata": {},
   "source": [
    "### islower() - true if srting is lower case\n",
    "### isupper() - true if srting is upper case\n",
    "### istitle() - true  if string follows title case \n",
    "### isalpha() - true if only alphabets\n",
    "### isnumeric() - true if only numeric values\n",
    "### ispsace() - true if it have space"
   ]
  },
  {
   "cell_type": "code",
   "execution_count": 43,
   "metadata": {},
   "outputs": [
    {
     "name": "stdout",
     "output_type": "stream",
     "text": [
      "True\n",
      "False\n"
     ]
    }
   ],
   "source": [
    "s1 = 'gitam'\n",
    "print(s1.islower())\n",
    "print(s1.isupper())"
   ]
  },
  {
   "cell_type": "code",
   "execution_count": 45,
   "metadata": {},
   "outputs": [
    {
     "name": "stdout",
     "output_type": "stream",
     "text": [
      "True\n",
      "False\n"
     ]
    }
   ],
   "source": [
    "s1 = \"Gitam\"\n",
    "s2 = \"gitam\"\n",
    "print(s1.istitle())\n",
    "print(s2.istitle()) # first letter should start with capital"
   ]
  },
  {
   "cell_type": "code",
   "execution_count": 47,
   "metadata": {},
   "outputs": [
    {
     "name": "stdout",
     "output_type": "stream",
     "text": [
      "False\n",
      "True\n"
     ]
    }
   ],
   "source": [
    "s1 = 'gitam123'\n",
    "print(s1.isalpha())\n",
    "s2 = 'gitam'\n",
    "print(s2.isalpha())"
   ]
  },
  {
   "cell_type": "code",
   "execution_count": 48,
   "metadata": {},
   "outputs": [
    {
     "name": "stdout",
     "output_type": "stream",
     "text": [
      "True\n",
      "False\n"
     ]
    }
   ],
   "source": [
    "s1 = \"1234\"\n",
    "s2 = \"gitam123\"\n",
    "print(s1.isnumeric())\n",
    "print(s2.isnumeric())"
   ]
  },
  {
   "cell_type": "code",
   "execution_count": 52,
   "metadata": {},
   "outputs": [
    {
     "name": "stdout",
     "output_type": "stream",
     "text": [
      "True\n",
      "False\n"
     ]
    }
   ],
   "source": [
    "s1 = \" \"\n",
    "s2 = \"gitam hyd\"\n",
    "print(s1.isspace())\n",
    "print(s2.isspace())"
   ]
  },
  {
   "cell_type": "markdown",
   "metadata": {},
   "source": [
    "# string methods\n",
    "### join() - method will concatinates the two strings\n",
    "### split() - it return the list of different string separeted by space\n",
    "### replace() - replace with specific word"
   ]
  },
  {
   "cell_type": "code",
   "execution_count": 54,
   "metadata": {},
   "outputs": [
    {
     "name": "stdout",
     "output_type": "stream",
     "text": [
      "p y t h o n\n"
     ]
    }
   ],
   "source": [
    "s1 = \"python\"\n",
    "print(\" \".join(s1))"
   ]
  },
  {
   "cell_type": "code",
   "execution_count": 58,
   "metadata": {},
   "outputs": [
    {
     "name": "stdout",
     "output_type": "stream",
     "text": [
      "p,y,t,h,o,n, ,l,e,a,r,n,i,n,g\n"
     ]
    }
   ],
   "source": [
    "s1 = \"python learning\"\n",
    "print(\",\".join(s1))"
   ]
  },
  {
   "cell_type": "code",
   "execution_count": 61,
   "metadata": {},
   "outputs": [
    {
     "name": "stdout",
     "output_type": "stream",
     "text": [
      "['python', 'learning']\n"
     ]
    }
   ],
   "source": [
    "s1 = \"python learning\"\n",
    "print(s1.split())"
   ]
  },
  {
   "cell_type": "code",
   "execution_count": 63,
   "metadata": {},
   "outputs": [
    {
     "name": "stdout",
     "output_type": "stream",
     "text": [
      "['python le', 'rning']\n"
     ]
    }
   ],
   "source": [
    "s1 = \"python learning\"\n",
    "print(s1.split('a'))"
   ]
  },
  {
   "cell_type": "code",
   "execution_count": 65,
   "metadata": {},
   "outputs": [
    {
     "name": "stdout",
     "output_type": "stream",
     "text": [
      "2\n"
     ]
    }
   ],
   "source": [
    "s1 = \"python learning\"\n",
    "li = s1.split()\n",
    "print(len(li))"
   ]
  },
  {
   "cell_type": "code",
   "execution_count": 66,
   "metadata": {},
   "outputs": [
    {
     "name": "stdout",
     "output_type": "stream",
     "text": [
      "['p', 'y', 't', 'h', 'o', 'n', ' ', 'l', 'e', 'a', 'r', 'n', 'i', 'n', 'g']\n"
     ]
    }
   ],
   "source": [
    "s1 = \"python learning\"\n",
    "li = list(s1)\n",
    "print(li)"
   ]
  },
  {
   "cell_type": "code",
   "execution_count": 68,
   "metadata": {},
   "outputs": [
    {
     "name": "stdout",
     "output_type": "stream",
     "text": [
      "python learn easy\n"
     ]
    }
   ],
   "source": [
    "s1 = \"python learn ing\"\n",
    "print(s1.replace(\"ing\",\"easy\"))"
   ]
  },
  {
   "cell_type": "markdown",
   "metadata": {},
   "source": [
    "# packages and modules\n",
    "\n",
    "## packages : a collection of modules and sub packages\n",
    "## modules : a single python file containing set of functions\n",
    "\n",
    "### packages --> sub packages --> modules --> functions --> statements"
   ]
  },
  {
   "cell_type": "code",
   "execution_count": 1,
   "metadata": {},
   "outputs": [
    {
     "data": {
      "text/plain": [
       "123"
      ]
     },
     "execution_count": 1,
     "metadata": {},
     "output_type": "execute_result"
    }
   ],
   "source": [
    "# Import the external packages to python file\n",
    "\n",
    "import math \n",
    "math.floor(123.45)\n"
   ]
  },
  {
   "cell_type": "code",
   "execution_count": 2,
   "metadata": {},
   "outputs": [
    {
     "data": {
      "text/plain": [
       "120"
      ]
     },
     "execution_count": 2,
     "metadata": {},
     "output_type": "execute_result"
    }
   ],
   "source": [
    "from math import factorial as fact \n",
    "fact(5)"
   ]
  },
  {
   "cell_type": "code",
   "execution_count": 4,
   "metadata": {},
   "outputs": [
    {
     "name": "stdout",
     "output_type": "stream",
     "text": [
      "182 28 171 4 198 110 24 34 9 76 124 176 123 164 114 156 52 42 55 13 "
     ]
    }
   ],
   "source": [
    "# function to generate N random numbers in given range\n",
    "\n",
    "import random\n",
    "def randomnumbers(n,lb,ub):\n",
    "    for i in range(0,n):\n",
    "        print(random.randint(lb,ub),end=\" \")\n",
    "    return\n",
    "randomnumbers(20,0,200)"
   ]
  },
  {
   "cell_type": "code",
   "execution_count": 8,
   "metadata": {},
   "outputs": [
    {
     "ename": "NameError",
     "evalue": "name 'li' is not defined",
     "output_type": "error",
     "traceback": [
      "\u001b[1;31m---------------------------------------------------------------------------\u001b[0m",
      "\u001b[1;31mNameError\u001b[0m                                 Traceback (most recent call last)",
      "\u001b[1;32m<ipython-input-8-968a0dbc0d94>\u001b[0m in \u001b[0;36m<module>\u001b[1;34m\u001b[0m\n\u001b[0;32m     12\u001b[0m         \u001b[1;32mreturn\u001b[0m \u001b[1;34m\"try once again\"\u001b[0m\u001b[1;33m\u001b[0m\u001b[1;33m\u001b[0m\u001b[0m\n\u001b[0;32m     13\u001b[0m     \u001b[1;32mreturn\u001b[0m\u001b[1;33m\u001b[0m\u001b[1;33m\u001b[0m\u001b[0m\n\u001b[1;32m---> 14\u001b[1;33m \u001b[0mcheck\u001b[0m\u001b[1;33m(\u001b[0m\u001b[1;36m15\u001b[0m\u001b[1;33m)\u001b[0m\u001b[1;33m\u001b[0m\u001b[1;33m\u001b[0m\u001b[0m\n\u001b[0m\u001b[0;32m     15\u001b[0m \u001b[0mgeneratenumbers\u001b[0m\u001b[1;33m(\u001b[0m\u001b[1;36m20\u001b[0m\u001b[1;33m,\u001b[0m\u001b[1;36m0\u001b[0m\u001b[1;33m,\u001b[0m\u001b[1;36m200\u001b[0m\u001b[1;33m)\u001b[0m\u001b[1;33m\u001b[0m\u001b[1;33m\u001b[0m\u001b[0m\n",
      "\u001b[1;32m<ipython-input-8-968a0dbc0d94>\u001b[0m in \u001b[0;36mcheck\u001b[1;34m(n)\u001b[0m\n\u001b[0;32m      7\u001b[0m     \u001b[1;32mreturn\u001b[0m \u001b[0mli\u001b[0m\u001b[1;33m\u001b[0m\u001b[1;33m\u001b[0m\u001b[0m\n\u001b[0;32m      8\u001b[0m \u001b[1;32mdef\u001b[0m \u001b[0mcheck\u001b[0m\u001b[1;33m(\u001b[0m\u001b[0mn\u001b[0m\u001b[1;33m)\u001b[0m\u001b[1;33m:\u001b[0m\u001b[1;33m\u001b[0m\u001b[1;33m\u001b[0m\u001b[0m\n\u001b[1;32m----> 9\u001b[1;33m     \u001b[1;32mif\u001b[0m \u001b[0mn\u001b[0m \u001b[1;32min\u001b[0m \u001b[0mli\u001b[0m\u001b[1;33m:\u001b[0m\u001b[1;33m\u001b[0m\u001b[1;33m\u001b[0m\u001b[0m\n\u001b[0m\u001b[0;32m     10\u001b[0m         \u001b[1;32mreturn\u001b[0m \u001b[1;34m\"congrats\"\u001b[0m\u001b[1;33m\u001b[0m\u001b[1;33m\u001b[0m\u001b[0m\n\u001b[0;32m     11\u001b[0m     \u001b[1;32melse\u001b[0m \u001b[1;33m:\u001b[0m\u001b[1;33m\u001b[0m\u001b[1;33m\u001b[0m\u001b[0m\n",
      "\u001b[1;31mNameError\u001b[0m: name 'li' is not defined"
     ]
    }
   ],
   "source": [
    "#2\n",
    "\n",
    "def generatenumbers(n,lb,ub):\n",
    "    li=[]\n",
    "    for i in range(lb,ub):\n",
    "        li.append(random.randint(lb,ub))\n",
    "    return li\n",
    "def check(n):\n",
    "    if n in li:\n",
    "        return \"congrats\"\n",
    "    else :\n",
    "        return \"try once again\"\n",
    "    return\n",
    "check(15) "
   ]
  },
  {
   "cell_type": "code",
   "execution_count": null,
   "metadata": {},
   "outputs": [],
   "source": []
  },
  {
   "cell_type": "code",
   "execution_count": null,
   "metadata": {},
   "outputs": [],
   "source": []
  },
  {
   "cell_type": "code",
   "execution_count": null,
   "metadata": {},
   "outputs": [],
   "source": []
  },
  {
   "cell_type": "code",
   "execution_count": null,
   "metadata": {},
   "outputs": [],
   "source": []
  },
  {
   "cell_type": "code",
   "execution_count": null,
   "metadata": {},
   "outputs": [],
   "source": []
  },
  {
   "cell_type": "code",
   "execution_count": null,
   "metadata": {},
   "outputs": [],
   "source": []
  },
  {
   "cell_type": "code",
   "execution_count": null,
   "metadata": {},
   "outputs": [],
   "source": []
  },
  {
   "cell_type": "code",
   "execution_count": null,
   "metadata": {},
   "outputs": [],
   "source": []
  },
  {
   "cell_type": "code",
   "execution_count": null,
   "metadata": {},
   "outputs": [],
   "source": []
  },
  {
   "cell_type": "code",
   "execution_count": null,
   "metadata": {},
   "outputs": [],
   "source": []
  },
  {
   "cell_type": "code",
   "execution_count": null,
   "metadata": {},
   "outputs": [],
   "source": []
  },
  {
   "cell_type": "code",
   "execution_count": null,
   "metadata": {},
   "outputs": [],
   "source": []
  },
  {
   "cell_type": "code",
   "execution_count": null,
   "metadata": {},
   "outputs": [],
   "source": []
  },
  {
   "cell_type": "code",
   "execution_count": null,
   "metadata": {},
   "outputs": [],
   "source": []
  },
  {
   "cell_type": "code",
   "execution_count": null,
   "metadata": {},
   "outputs": [],
   "source": []
  }
 ],
 "metadata": {
  "kernelspec": {
   "display_name": "Python 3",
   "language": "python",
   "name": "python3"
  },
  "language_info": {
   "codemirror_mode": {
    "name": "ipython",
    "version": 3
   },
   "file_extension": ".py",
   "mimetype": "text/x-python",
   "name": "python",
   "nbconvert_exporter": "python",
   "pygments_lexer": "ipython3",
   "version": "3.7.3"
  }
 },
 "nbformat": 4,
 "nbformat_minor": 2
}
